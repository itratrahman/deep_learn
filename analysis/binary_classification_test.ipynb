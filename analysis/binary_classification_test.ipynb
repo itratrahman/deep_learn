{
 "cells": [
  {
   "cell_type": "markdown",
   "metadata": {},
   "source": [
    "# BINARY CLASSIFICATION"
   ]
  },
  {
   "cell_type": "markdown",
   "metadata": {},
   "source": [
    "This notebook test deep_learn package for binary classification using kaggle's [Porto Seguro’s Safe Driver Prediction Dataset](https://www.kaggle.com/c/porto-seguro-safe-driver-prediction)."
   ]
  },
  {
   "cell_type": "markdown",
   "metadata": {},
   "source": [
    "**Import deep_learn package**"
   ]
  },
  {
   "cell_type": "code",
   "execution_count": 1,
   "metadata": {},
   "outputs": [],
   "source": [
    "try:\n",
    "    from deep_learn.nn import ann\n",
    "except:\n",
    "    from config import *\n",
    "    append_path('../')\n",
    "    from deep_learn.nn import ann"
   ]
  },
  {
   "cell_type": "markdown",
   "metadata": {},
   "source": [
    "**Import neccessary package**"
   ]
  },
  {
   "cell_type": "code",
   "execution_count": 2,
   "metadata": {},
   "outputs": [],
   "source": [
    "import numpy as np\n",
    "import pandas as pd\n",
    "from sklearn.model_selection import train_test_split\n",
    "import matplotlib.pyplot as plt\n",
    "from config import *\n",
    "append_path('../')"
   ]
  },
  {
   "cell_type": "markdown",
   "metadata": {},
   "source": [
    "## 1. Load and preprocess data"
   ]
  },
  {
   "cell_type": "code",
   "execution_count": 3,
   "metadata": {},
   "outputs": [],
   "source": [
    "data = pd.read_csv(\"./data/train.csv\")"
   ]
  },
  {
   "cell_type": "code",
   "execution_count": 4,
   "metadata": {},
   "outputs": [
    {
     "data": {
      "text/html": [
       "<div>\n",
       "<style scoped>\n",
       "    .dataframe tbody tr th:only-of-type {\n",
       "        vertical-align: middle;\n",
       "    }\n",
       "\n",
       "    .dataframe tbody tr th {\n",
       "        vertical-align: top;\n",
       "    }\n",
       "\n",
       "    .dataframe thead th {\n",
       "        text-align: right;\n",
       "    }\n",
       "</style>\n",
       "<table border=\"1\" class=\"dataframe\">\n",
       "  <thead>\n",
       "    <tr style=\"text-align: right;\">\n",
       "      <th></th>\n",
       "      <th>id</th>\n",
       "      <th>target</th>\n",
       "      <th>ps_ind_01</th>\n",
       "      <th>ps_ind_02_cat</th>\n",
       "      <th>ps_ind_03</th>\n",
       "      <th>ps_ind_04_cat</th>\n",
       "      <th>ps_ind_05_cat</th>\n",
       "      <th>ps_ind_06_bin</th>\n",
       "      <th>ps_ind_07_bin</th>\n",
       "      <th>ps_ind_08_bin</th>\n",
       "      <th>...</th>\n",
       "      <th>ps_calc_11</th>\n",
       "      <th>ps_calc_12</th>\n",
       "      <th>ps_calc_13</th>\n",
       "      <th>ps_calc_14</th>\n",
       "      <th>ps_calc_15_bin</th>\n",
       "      <th>ps_calc_16_bin</th>\n",
       "      <th>ps_calc_17_bin</th>\n",
       "      <th>ps_calc_18_bin</th>\n",
       "      <th>ps_calc_19_bin</th>\n",
       "      <th>ps_calc_20_bin</th>\n",
       "    </tr>\n",
       "  </thead>\n",
       "  <tbody>\n",
       "    <tr>\n",
       "      <th>0</th>\n",
       "      <td>7</td>\n",
       "      <td>0</td>\n",
       "      <td>2</td>\n",
       "      <td>2</td>\n",
       "      <td>5</td>\n",
       "      <td>1</td>\n",
       "      <td>0</td>\n",
       "      <td>0</td>\n",
       "      <td>1</td>\n",
       "      <td>0</td>\n",
       "      <td>...</td>\n",
       "      <td>9</td>\n",
       "      <td>1</td>\n",
       "      <td>5</td>\n",
       "      <td>8</td>\n",
       "      <td>0</td>\n",
       "      <td>1</td>\n",
       "      <td>1</td>\n",
       "      <td>0</td>\n",
       "      <td>0</td>\n",
       "      <td>1</td>\n",
       "    </tr>\n",
       "    <tr>\n",
       "      <th>1</th>\n",
       "      <td>9</td>\n",
       "      <td>0</td>\n",
       "      <td>1</td>\n",
       "      <td>1</td>\n",
       "      <td>7</td>\n",
       "      <td>0</td>\n",
       "      <td>0</td>\n",
       "      <td>0</td>\n",
       "      <td>0</td>\n",
       "      <td>1</td>\n",
       "      <td>...</td>\n",
       "      <td>3</td>\n",
       "      <td>1</td>\n",
       "      <td>1</td>\n",
       "      <td>9</td>\n",
       "      <td>0</td>\n",
       "      <td>1</td>\n",
       "      <td>1</td>\n",
       "      <td>0</td>\n",
       "      <td>1</td>\n",
       "      <td>0</td>\n",
       "    </tr>\n",
       "    <tr>\n",
       "      <th>2</th>\n",
       "      <td>13</td>\n",
       "      <td>0</td>\n",
       "      <td>5</td>\n",
       "      <td>4</td>\n",
       "      <td>9</td>\n",
       "      <td>1</td>\n",
       "      <td>0</td>\n",
       "      <td>0</td>\n",
       "      <td>0</td>\n",
       "      <td>1</td>\n",
       "      <td>...</td>\n",
       "      <td>4</td>\n",
       "      <td>2</td>\n",
       "      <td>7</td>\n",
       "      <td>7</td>\n",
       "      <td>0</td>\n",
       "      <td>1</td>\n",
       "      <td>1</td>\n",
       "      <td>0</td>\n",
       "      <td>1</td>\n",
       "      <td>0</td>\n",
       "    </tr>\n",
       "    <tr>\n",
       "      <th>3</th>\n",
       "      <td>16</td>\n",
       "      <td>0</td>\n",
       "      <td>0</td>\n",
       "      <td>1</td>\n",
       "      <td>2</td>\n",
       "      <td>0</td>\n",
       "      <td>0</td>\n",
       "      <td>1</td>\n",
       "      <td>0</td>\n",
       "      <td>0</td>\n",
       "      <td>...</td>\n",
       "      <td>2</td>\n",
       "      <td>2</td>\n",
       "      <td>4</td>\n",
       "      <td>9</td>\n",
       "      <td>0</td>\n",
       "      <td>0</td>\n",
       "      <td>0</td>\n",
       "      <td>0</td>\n",
       "      <td>0</td>\n",
       "      <td>0</td>\n",
       "    </tr>\n",
       "    <tr>\n",
       "      <th>4</th>\n",
       "      <td>17</td>\n",
       "      <td>0</td>\n",
       "      <td>0</td>\n",
       "      <td>2</td>\n",
       "      <td>0</td>\n",
       "      <td>1</td>\n",
       "      <td>0</td>\n",
       "      <td>1</td>\n",
       "      <td>0</td>\n",
       "      <td>0</td>\n",
       "      <td>...</td>\n",
       "      <td>3</td>\n",
       "      <td>1</td>\n",
       "      <td>1</td>\n",
       "      <td>3</td>\n",
       "      <td>0</td>\n",
       "      <td>0</td>\n",
       "      <td>0</td>\n",
       "      <td>1</td>\n",
       "      <td>1</td>\n",
       "      <td>0</td>\n",
       "    </tr>\n",
       "  </tbody>\n",
       "</table>\n",
       "<p>5 rows × 59 columns</p>\n",
       "</div>"
      ],
      "text/plain": [
       "   id  target  ps_ind_01  ps_ind_02_cat  ps_ind_03  ps_ind_04_cat  \\\n",
       "0   7       0          2              2          5              1   \n",
       "1   9       0          1              1          7              0   \n",
       "2  13       0          5              4          9              1   \n",
       "3  16       0          0              1          2              0   \n",
       "4  17       0          0              2          0              1   \n",
       "\n",
       "   ps_ind_05_cat  ps_ind_06_bin  ps_ind_07_bin  ps_ind_08_bin       ...        \\\n",
       "0              0              0              1              0       ...         \n",
       "1              0              0              0              1       ...         \n",
       "2              0              0              0              1       ...         \n",
       "3              0              1              0              0       ...         \n",
       "4              0              1              0              0       ...         \n",
       "\n",
       "   ps_calc_11  ps_calc_12  ps_calc_13  ps_calc_14  ps_calc_15_bin  \\\n",
       "0           9           1           5           8               0   \n",
       "1           3           1           1           9               0   \n",
       "2           4           2           7           7               0   \n",
       "3           2           2           4           9               0   \n",
       "4           3           1           1           3               0   \n",
       "\n",
       "   ps_calc_16_bin  ps_calc_17_bin  ps_calc_18_bin  ps_calc_19_bin  \\\n",
       "0               1               1               0               0   \n",
       "1               1               1               0               1   \n",
       "2               1               1               0               1   \n",
       "3               0               0               0               0   \n",
       "4               0               0               1               1   \n",
       "\n",
       "   ps_calc_20_bin  \n",
       "0               1  \n",
       "1               0  \n",
       "2               0  \n",
       "3               0  \n",
       "4               0  \n",
       "\n",
       "[5 rows x 59 columns]"
      ]
     },
     "execution_count": 4,
     "metadata": {},
     "output_type": "execute_result"
    }
   ],
   "source": [
    "data.head()"
   ]
  },
  {
   "cell_type": "markdown",
   "metadata": {},
   "source": [
    "**Do a train test split**"
   ]
  },
  {
   "cell_type": "code",
   "execution_count": 5,
   "metadata": {},
   "outputs": [],
   "source": [
    "train_data, test_data = train_test_split(data, test_size = 0.1, random_state = 0)"
   ]
  },
  {
   "cell_type": "code",
   "execution_count": 6,
   "metadata": {},
   "outputs": [
    {
     "data": {
      "text/plain": [
       "(535690, 59)"
      ]
     },
     "execution_count": 6,
     "metadata": {},
     "output_type": "execute_result"
    }
   ],
   "source": [
    "train_data.shape"
   ]
  },
  {
   "cell_type": "code",
   "execution_count": 7,
   "metadata": {},
   "outputs": [
    {
     "data": {
      "text/plain": [
       "(59522, 59)"
      ]
     },
     "execution_count": 7,
     "metadata": {},
     "output_type": "execute_result"
    }
   ],
   "source": [
    "test_data.shape"
   ]
  },
  {
   "cell_type": "markdown",
   "metadata": {},
   "source": [
    "**A function to extract feature matrix and output vector**"
   ]
  },
  {
   "cell_type": "code",
   "execution_count": 8,
   "metadata": {},
   "outputs": [],
   "source": [
    "def get_xy_data(dataframe, features = None, output = None):\n",
    "\n",
    "    '''a function for parsing the feature matrix and output array from a pandas dataframe'''\n",
    "\n",
    "    # to ignore pandas warning\n",
    "    import warnings\n",
    "    warnings.filterwarnings('ignore')\n",
    "\n",
    "    # import numpy\n",
    "    import numpy as np\n",
    "\n",
    "    # if no featues are given then just return the a numpy matrix of the dataframe\n",
    "    if features == None:\n",
    "        return dataframe.as_matrix()\n",
    "\n",
    "    # extract the feature matrix and convert it to numpy array\n",
    "    X = dataframe[features].as_matrix()\n",
    "\n",
    "    # if there is no output\n",
    "    if output == None:\n",
    "        return X\n",
    "    # if the output vector is wanted by the user\n",
    "    else:\n",
    "        # extracting the output columns and converting it to numpy array\n",
    "        y = dataframe[output].as_matrix()\n",
    "        y = np.reshape(y, (-1,1))\n",
    "        # returning the feature matrix and output vector\n",
    "        return (X, y)"
   ]
  },
  {
   "cell_type": "markdown",
   "metadata": {},
   "source": [
    "**Features and output of the model**"
   ]
  },
  {
   "cell_type": "code",
   "execution_count": 9,
   "metadata": {},
   "outputs": [],
   "source": [
    "features = data.columns.tolist()\n",
    "features.remove('id')\n",
    "output = \"target\"\n",
    "features.remove(output)"
   ]
  },
  {
   "cell_type": "markdown",
   "metadata": {},
   "source": [
    "**Extract X y data for train and test set**"
   ]
  },
  {
   "cell_type": "code",
   "execution_count": 10,
   "metadata": {},
   "outputs": [],
   "source": [
    "X_train, Y_train = get_xy_data(train_data, features=features, output=output)\n",
    "X_test, Y_test = get_xy_data(test_data, features=features, output=output)"
   ]
  },
  {
   "cell_type": "markdown",
   "metadata": {},
   "source": [
    "## 2. Train Neural Neural Network model"
   ]
  },
  {
   "cell_type": "markdown",
   "metadata": {},
   "source": [
    "**Neural network architecture**"
   ]
  },
  {
   "cell_type": "code",
   "execution_count": 11,
   "metadata": {},
   "outputs": [],
   "source": [
    "layers_dims = [57, 57*2,57*4,57*2,57,1]"
   ]
  },
  {
   "cell_type": "markdown",
   "metadata": {},
   "source": [
    "**Create a nn model object**"
   ]
  },
  {
   "cell_type": "code",
   "execution_count": 12,
   "metadata": {},
   "outputs": [],
   "source": [
    "model = ann(layers_dims=layers_dims)"
   ]
  },
  {
   "cell_type": "markdown",
   "metadata": {},
   "source": [
    "**Hyperparameters of the model**"
   ]
  },
  {
   "cell_type": "code",
   "execution_count": 13,
   "metadata": {},
   "outputs": [],
   "source": [
    "batch_size = 1000\n",
    "learning_rate = 0.0001\n",
    "num_iterations = 16000"
   ]
  },
  {
   "cell_type": "markdown",
   "metadata": {},
   "source": [
    "**Fit the model**"
   ]
  },
  {
   "cell_type": "code",
   "execution_count": 14,
   "metadata": {},
   "outputs": [
    {
     "name": "stdout",
     "output_type": "stream",
     "text": [
      "Cost after iteration 0: 1.348082\n",
      "Cost after iteration 100: 1.265473\n",
      "Cost after iteration 200: 1.188089\n",
      "Cost after iteration 300: 1.117496\n",
      "Cost after iteration 400: 1.044909\n",
      "Cost after iteration 500: 0.979954\n",
      "Cost after iteration 600: 0.926057\n",
      "Cost after iteration 700: 0.873102\n",
      "Cost after iteration 800: 0.826064\n",
      "Cost after iteration 900: 0.778396\n",
      "Cost after iteration 1000: 0.734988\n",
      "Cost after iteration 1100: 0.697507\n",
      "Cost after iteration 1200: 0.662756\n",
      "Cost after iteration 1300: 0.629184\n",
      "Cost after iteration 1400: 0.598900\n",
      "Cost after iteration 1500: 0.572355\n",
      "Cost after iteration 1600: 0.548409\n",
      "Cost after iteration 1700: 0.526223\n",
      "Cost after iteration 1800: 0.500857\n",
      "Cost after iteration 1900: 0.481424\n",
      "Cost after iteration 2000: 0.461211\n",
      "Cost after iteration 2100: 0.450442\n",
      "Cost after iteration 2200: 0.429388\n",
      "Cost after iteration 2300: 0.421333\n",
      "Cost after iteration 2400: 0.404208\n",
      "Cost after iteration 2500: 0.397481\n",
      "Cost after iteration 2600: 0.368496\n",
      "Cost after iteration 2700: 0.372714\n",
      "Cost after iteration 2800: 0.361821\n",
      "Cost after iteration 2900: 0.344425\n",
      "Cost after iteration 3000: 0.343697\n",
      "Cost after iteration 3100: 0.329023\n",
      "Cost after iteration 3200: 0.323376\n",
      "Cost after iteration 3300: 0.325209\n",
      "Cost after iteration 3400: 0.320972\n",
      "Cost after iteration 3500: 0.311147\n",
      "Cost after iteration 3600: 0.293944\n",
      "Cost after iteration 3700: 0.277829\n",
      "Cost after iteration 3800: 0.290470\n",
      "Cost after iteration 3900: 0.286711\n",
      "Cost after iteration 4000: 0.270979\n",
      "Cost after iteration 4100: 0.257864\n",
      "Cost after iteration 4200: 0.260392\n",
      "Cost after iteration 4300: 0.266325\n",
      "Cost after iteration 4400: 0.237258\n",
      "Cost after iteration 4500: 0.272373\n",
      "Cost after iteration 4600: 0.253777\n",
      "Cost after iteration 4700: 0.250465\n",
      "Cost after iteration 4800: 0.239348\n",
      "Cost after iteration 4900: 0.229838\n",
      "Cost after iteration 5000: 0.247876\n",
      "Cost after iteration 5100: 0.243559\n",
      "Cost after iteration 5200: 0.237693\n",
      "Cost after iteration 5300: 0.219984\n",
      "Cost after iteration 5400: 0.229398\n",
      "Cost after iteration 5500: 0.213254\n",
      "Cost after iteration 5600: 0.210870\n",
      "Cost after iteration 5700: 0.236935\n",
      "Cost after iteration 5800: 0.217179\n",
      "Cost after iteration 5900: 0.207991\n",
      "Cost after iteration 6000: 0.220639\n",
      "Cost after iteration 6100: 0.217044\n",
      "Cost after iteration 6200: 0.196730\n",
      "Cost after iteration 6300: 0.219326\n",
      "Cost after iteration 6400: 0.200741\n",
      "Cost after iteration 6500: 0.201060\n",
      "Cost after iteration 6600: 0.214992\n",
      "Cost after iteration 6700: 0.198090\n",
      "Cost after iteration 6800: 0.208410\n",
      "Cost after iteration 6900: 0.209122\n",
      "Cost after iteration 7000: 0.225767\n",
      "Cost after iteration 7100: 0.190727\n",
      "Cost after iteration 7200: 0.211666\n",
      "Cost after iteration 7300: 0.210608\n",
      "Cost after iteration 7400: 0.197359\n",
      "Cost after iteration 7500: 0.188041\n",
      "Cost after iteration 7600: 0.174553\n",
      "Cost after iteration 7700: 0.179657\n",
      "Cost after iteration 7800: 0.193353\n",
      "Cost after iteration 7900: 0.192428\n",
      "Cost after iteration 8000: 0.174551\n",
      "Cost after iteration 8100: 0.186376\n",
      "Cost after iteration 8200: 0.202715\n",
      "Cost after iteration 8300: 0.191177\n",
      "Cost after iteration 8400: 0.179564\n",
      "Cost after iteration 8500: 0.180957\n",
      "Cost after iteration 8600: 0.188964\n",
      "Cost after iteration 8700: 0.181645\n",
      "Cost after iteration 8800: 0.187605\n",
      "Cost after iteration 8900: 0.175796\n",
      "Cost after iteration 9000: 0.177351\n",
      "Cost after iteration 9100: 0.167704\n",
      "Cost after iteration 9200: 0.198666\n",
      "Cost after iteration 9300: 0.173160\n",
      "Cost after iteration 9400: 0.170272\n",
      "Cost after iteration 9500: 0.185692\n",
      "Cost after iteration 9600: 0.178291\n",
      "Cost after iteration 9700: 0.186997\n",
      "Cost after iteration 9800: 0.198115\n",
      "Cost after iteration 9900: 0.181374\n",
      "Cost after iteration 10000: 0.169242\n",
      "Cost after iteration 10100: 0.185166\n",
      "Cost after iteration 10200: 0.189460\n",
      "Cost after iteration 10300: 0.170116\n",
      "Cost after iteration 10400: 0.169654\n",
      "Cost after iteration 10500: 0.159700\n",
      "Cost after iteration 10600: 0.161622\n",
      "Cost after iteration 10700: 0.185200\n",
      "Cost after iteration 10800: 0.158353\n",
      "Cost after iteration 10900: 0.165183\n",
      "Cost after iteration 11000: 0.181768\n",
      "Cost after iteration 11100: 0.161972\n",
      "Cost after iteration 11200: 0.183567\n",
      "Cost after iteration 11300: 0.202846\n",
      "Cost after iteration 11400: 0.151029\n",
      "Cost after iteration 11500: 0.190067\n",
      "Cost after iteration 11600: 0.187343\n",
      "Cost after iteration 11700: 0.159793\n",
      "Cost after iteration 11800: 0.161956\n",
      "Cost after iteration 11900: 0.154167\n",
      "Cost after iteration 12000: 0.136323\n",
      "Cost after iteration 12100: 0.166050\n",
      "Cost after iteration 12200: 0.170804\n",
      "Cost after iteration 12300: 0.150345\n",
      "Cost after iteration 12400: 0.167764\n",
      "Cost after iteration 12500: 0.162418\n",
      "Cost after iteration 12600: 0.157064\n",
      "Cost after iteration 12700: 0.161899\n",
      "Cost after iteration 12800: 0.148888\n",
      "Cost after iteration 12900: 0.189587\n",
      "Cost after iteration 13000: 0.143221\n",
      "Cost after iteration 13100: 0.184154\n",
      "Cost after iteration 13200: 0.189120\n",
      "Cost after iteration 13300: 0.183790\n",
      "Cost after iteration 13400: 0.186227\n",
      "Cost after iteration 13500: 0.152278\n",
      "Cost after iteration 13600: 0.172877\n",
      "Cost after iteration 13700: 0.144007\n",
      "Cost after iteration 13800: 0.138536\n",
      "Cost after iteration 13900: 0.156648\n",
      "Cost after iteration 14000: 0.166970\n",
      "Cost after iteration 14100: 0.158905\n",
      "Cost after iteration 14200: 0.174574\n",
      "Cost after iteration 14300: 0.155895\n",
      "Cost after iteration 14400: 0.179565\n",
      "Cost after iteration 14500: 0.163508\n",
      "Cost after iteration 14600: 0.168674\n",
      "Cost after iteration 14700: 0.152540\n",
      "Cost after iteration 14800: 0.141681\n",
      "Cost after iteration 14900: 0.165571\n",
      "Cost after iteration 15000: 0.152026\n",
      "Cost after iteration 15100: 0.154539\n",
      "Cost after iteration 15200: 0.154410\n",
      "Cost after iteration 15300: 0.186609\n",
      "Cost after iteration 15400: 0.156816\n",
      "Cost after iteration 15500: 0.175614\n",
      "Cost after iteration 15600: 0.156547\n",
      "Cost after iteration 15700: 0.140122\n",
      "Cost after iteration 15800: 0.159003\n",
      "Cost after iteration 15900: 0.183426\n",
      "Accuracy: 0.9634252881287588\n"
     ]
    }
   ],
   "source": [
    "model.fit(X_train, Y_train, X_test, Y_test, batch_size,\n",
    "          learning_rate = learning_rate, \n",
    "          num_iterations = num_iterations, print_cost=True, random_seed = 0)"
   ]
  },
  {
   "cell_type": "markdown",
   "metadata": {},
   "source": [
    "**Plot of Cost vs Iteration**"
   ]
  },
  {
   "cell_type": "code",
   "execution_count": 15,
   "metadata": {},
   "outputs": [
    {
     "data": {
      "image/png": "[encoded data removed]",
      "text/plain": [
       "<Figure size 432x288 with 1 Axes>"
      ]
     },
     "metadata": {},
     "output_type": "display_data"
    }
   ],
   "source": [
    "# plot the cost\n",
    "plt.plot(np.squeeze(model.costs))\n",
    "plt.ylabel('cost')\n",
    "plt.xlabel('iterations (per tens)')\n",
    "plt.title(\"Learning rate =\" + str(learning_rate))\n",
    "plt.show()"
   ]
  }
 ],
 "metadata": {
  "kernelspec": {
   "display_name": "Python 3",
   "language": "python",
   "name": "python3"
  },
  "language_info": {
   "codemirror_mode": {
    "name": "ipython",
    "version": 3
   },
   "file_extension": ".py",
   "mimetype": "text/x-python",
   "name": "python",
   "nbconvert_exporter": "python",
   "pygments_lexer": "ipython3",
   "version": "3.6.5"
  }
 },
 "nbformat": 4,
 "nbformat_minor": 2
}
