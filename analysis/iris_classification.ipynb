{
 "cells": [
  {
   "cell_type": "markdown",
   "metadata": {},
   "source": [
    "# IRIS DATA CLASSIFICATION"
   ]
  },
  {
   "cell_type": "markdown",
   "metadata": {},
   "source": [
    "This notebook trains neural network to classify iris data. The notebook also shows the caviar search strategy for hyperparameter tuning, a technique is followed by machine learning scientists and engineers for training deep learning models."
   ]
  },
  {
   "cell_type": "markdown",
   "metadata": {},
   "source": [
    "**Import deep_learn package**"
   ]
  },
  {
   "cell_type": "code",
   "execution_count": 1,
   "metadata": {},
   "outputs": [
    {
     "name": "stdout",
     "output_type": "stream",
     "text": [
      "Imported deep_learn from enviroment site package\n"
     ]
    }
   ],
   "source": [
    "try:\n",
    "    from deep_learn.nn import ann\n",
    "    print(\"Imported deep_learn from enviroment site package\")\n",
    "except:\n",
    "    from config import *\n",
    "    append_path('../')\n",
    "    from deep_learn.nn import ann\n",
    "    print(\"Imported deep_learn by appending the path of the package to system path\")"
   ]
  },
  {
   "cell_type": "markdown",
   "metadata": {},
   "source": [
    "**Import neccessary packages**"
   ]
  },
  {
   "cell_type": "code",
   "execution_count": 2,
   "metadata": {},
   "outputs": [],
   "source": [
    "import numpy as np\n",
    "import pandas as pd\n",
    "import pickle\n",
    "from sklearn.model_selection import train_test_split\n",
    "from sklearn import datasets\n",
    "from sklearn.preprocessing import OneHotEncoder\n",
    "import matplotlib.pyplot as plt"
   ]
  },
  {
   "cell_type": "markdown",
   "metadata": {},
   "source": [
    "## 1. Load and reshape data"
   ]
  },
  {
   "cell_type": "markdown",
   "metadata": {},
   "source": [
    "**Load iris data**"
   ]
  },
  {
   "cell_type": "code",
   "execution_count": 3,
   "metadata": {},
   "outputs": [],
   "source": [
    "iris = datasets.load_iris()"
   ]
  },
  {
   "cell_type": "code",
   "execution_count": 4,
   "metadata": {},
   "outputs": [],
   "source": [
    "X = iris.data\n",
    "y = iris.target.reshape(-1,1)"
   ]
  },
  {
   "cell_type": "markdown",
   "metadata": {},
   "source": [
    "**Store the data in pandas dataframe**"
   ]
  },
  {
   "cell_type": "code",
   "execution_count": 5,
   "metadata": {},
   "outputs": [],
   "source": [
    "# stack the X y data horizontally\n",
    "data = np.hstack((X,y))\n",
    "# store the numpy array in pandas dataframe\n",
    "data = pd.DataFrame(data=data, columns=iris.feature_names +['species'])\n",
    "# shuffle the data\n",
    "data = data.sample(frac=1, random_state=1).reset_index(drop=True)"
   ]
  },
  {
   "cell_type": "code",
   "execution_count": 6,
   "metadata": {},
   "outputs": [
    {
     "data": {
      "text/html": [
       "<div>\n",
       "<style scoped>\n",
       "    .dataframe tbody tr th:only-of-type {\n",
       "        vertical-align: middle;\n",
       "    }\n",
       "\n",
       "    .dataframe tbody tr th {\n",
       "        vertical-align: top;\n",
       "    }\n",
       "\n",
       "    .dataframe thead th {\n",
       "        text-align: right;\n",
       "    }\n",
       "</style>\n",
       "<table border=\"1\" class=\"dataframe\">\n",
       "  <thead>\n",
       "    <tr style=\"text-align: right;\">\n",
       "      <th></th>\n",
       "      <th>sepal length (cm)</th>\n",
       "      <th>sepal width (cm)</th>\n",
       "      <th>petal length (cm)</th>\n",
       "      <th>petal width (cm)</th>\n",
       "      <th>species</th>\n",
       "    </tr>\n",
       "  </thead>\n",
       "  <tbody>\n",
       "    <tr>\n",
       "      <th>0</th>\n",
       "      <td>5.8</td>\n",
       "      <td>4.0</td>\n",
       "      <td>1.2</td>\n",
       "      <td>0.2</td>\n",
       "      <td>0.0</td>\n",
       "    </tr>\n",
       "    <tr>\n",
       "      <th>1</th>\n",
       "      <td>5.1</td>\n",
       "      <td>2.5</td>\n",
       "      <td>3.0</td>\n",
       "      <td>1.1</td>\n",
       "      <td>1.0</td>\n",
       "    </tr>\n",
       "    <tr>\n",
       "      <th>2</th>\n",
       "      <td>6.6</td>\n",
       "      <td>3.0</td>\n",
       "      <td>4.4</td>\n",
       "      <td>1.4</td>\n",
       "      <td>1.0</td>\n",
       "    </tr>\n",
       "    <tr>\n",
       "      <th>3</th>\n",
       "      <td>5.4</td>\n",
       "      <td>3.9</td>\n",
       "      <td>1.3</td>\n",
       "      <td>0.4</td>\n",
       "      <td>0.0</td>\n",
       "    </tr>\n",
       "    <tr>\n",
       "      <th>4</th>\n",
       "      <td>7.9</td>\n",
       "      <td>3.8</td>\n",
       "      <td>6.4</td>\n",
       "      <td>2.0</td>\n",
       "      <td>2.0</td>\n",
       "    </tr>\n",
       "    <tr>\n",
       "      <th>5</th>\n",
       "      <td>6.3</td>\n",
       "      <td>3.3</td>\n",
       "      <td>4.7</td>\n",
       "      <td>1.6</td>\n",
       "      <td>1.0</td>\n",
       "    </tr>\n",
       "    <tr>\n",
       "      <th>6</th>\n",
       "      <td>6.9</td>\n",
       "      <td>3.1</td>\n",
       "      <td>5.1</td>\n",
       "      <td>2.3</td>\n",
       "      <td>2.0</td>\n",
       "    </tr>\n",
       "    <tr>\n",
       "      <th>7</th>\n",
       "      <td>5.1</td>\n",
       "      <td>3.8</td>\n",
       "      <td>1.9</td>\n",
       "      <td>0.4</td>\n",
       "      <td>0.0</td>\n",
       "    </tr>\n",
       "    <tr>\n",
       "      <th>8</th>\n",
       "      <td>4.7</td>\n",
       "      <td>3.2</td>\n",
       "      <td>1.6</td>\n",
       "      <td>0.2</td>\n",
       "      <td>0.0</td>\n",
       "    </tr>\n",
       "    <tr>\n",
       "      <th>9</th>\n",
       "      <td>6.9</td>\n",
       "      <td>3.2</td>\n",
       "      <td>5.7</td>\n",
       "      <td>2.3</td>\n",
       "      <td>2.0</td>\n",
       "    </tr>\n",
       "    <tr>\n",
       "      <th>10</th>\n",
       "      <td>5.6</td>\n",
       "      <td>2.7</td>\n",
       "      <td>4.2</td>\n",
       "      <td>1.3</td>\n",
       "      <td>1.0</td>\n",
       "    </tr>\n",
       "    <tr>\n",
       "      <th>11</th>\n",
       "      <td>5.4</td>\n",
       "      <td>3.9</td>\n",
       "      <td>1.7</td>\n",
       "      <td>0.4</td>\n",
       "      <td>0.0</td>\n",
       "    </tr>\n",
       "    <tr>\n",
       "      <th>12</th>\n",
       "      <td>7.1</td>\n",
       "      <td>3.0</td>\n",
       "      <td>5.9</td>\n",
       "      <td>2.1</td>\n",
       "      <td>2.0</td>\n",
       "    </tr>\n",
       "    <tr>\n",
       "      <th>13</th>\n",
       "      <td>6.4</td>\n",
       "      <td>3.2</td>\n",
       "      <td>4.5</td>\n",
       "      <td>1.5</td>\n",
       "      <td>1.0</td>\n",
       "    </tr>\n",
       "    <tr>\n",
       "      <th>14</th>\n",
       "      <td>6.0</td>\n",
       "      <td>2.9</td>\n",
       "      <td>4.5</td>\n",
       "      <td>1.5</td>\n",
       "      <td>1.0</td>\n",
       "    </tr>\n",
       "    <tr>\n",
       "      <th>15</th>\n",
       "      <td>4.4</td>\n",
       "      <td>3.2</td>\n",
       "      <td>1.3</td>\n",
       "      <td>0.2</td>\n",
       "      <td>0.0</td>\n",
       "    </tr>\n",
       "    <tr>\n",
       "      <th>16</th>\n",
       "      <td>5.8</td>\n",
       "      <td>2.6</td>\n",
       "      <td>4.0</td>\n",
       "      <td>1.2</td>\n",
       "      <td>1.0</td>\n",
       "    </tr>\n",
       "    <tr>\n",
       "      <th>17</th>\n",
       "      <td>5.6</td>\n",
       "      <td>3.0</td>\n",
       "      <td>4.5</td>\n",
       "      <td>1.5</td>\n",
       "      <td>1.0</td>\n",
       "    </tr>\n",
       "    <tr>\n",
       "      <th>18</th>\n",
       "      <td>5.4</td>\n",
       "      <td>3.4</td>\n",
       "      <td>1.5</td>\n",
       "      <td>0.4</td>\n",
       "      <td>0.0</td>\n",
       "    </tr>\n",
       "    <tr>\n",
       "      <th>19</th>\n",
       "      <td>5.0</td>\n",
       "      <td>3.2</td>\n",
       "      <td>1.2</td>\n",
       "      <td>0.2</td>\n",
       "      <td>0.0</td>\n",
       "    </tr>\n",
       "  </tbody>\n",
       "</table>\n",
       "</div>"
      ],
      "text/plain": [
       "    sepal length (cm)  sepal width (cm)  petal length (cm)  petal width (cm)  \\\n",
       "0                 5.8               4.0                1.2               0.2   \n",
       "1                 5.1               2.5                3.0               1.1   \n",
       "2                 6.6               3.0                4.4               1.4   \n",
       "3                 5.4               3.9                1.3               0.4   \n",
       "4                 7.9               3.8                6.4               2.0   \n",
       "5                 6.3               3.3                4.7               1.6   \n",
       "6                 6.9               3.1                5.1               2.3   \n",
       "7                 5.1               3.8                1.9               0.4   \n",
       "8                 4.7               3.2                1.6               0.2   \n",
       "9                 6.9               3.2                5.7               2.3   \n",
       "10                5.6               2.7                4.2               1.3   \n",
       "11                5.4               3.9                1.7               0.4   \n",
       "12                7.1               3.0                5.9               2.1   \n",
       "13                6.4               3.2                4.5               1.5   \n",
       "14                6.0               2.9                4.5               1.5   \n",
       "15                4.4               3.2                1.3               0.2   \n",
       "16                5.8               2.6                4.0               1.2   \n",
       "17                5.6               3.0                4.5               1.5   \n",
       "18                5.4               3.4                1.5               0.4   \n",
       "19                5.0               3.2                1.2               0.2   \n",
       "\n",
       "    species  \n",
       "0       0.0  \n",
       "1       1.0  \n",
       "2       1.0  \n",
       "3       0.0  \n",
       "4       2.0  \n",
       "5       1.0  \n",
       "6       2.0  \n",
       "7       0.0  \n",
       "8       0.0  \n",
       "9       2.0  \n",
       "10      1.0  \n",
       "11      0.0  \n",
       "12      2.0  \n",
       "13      1.0  \n",
       "14      1.0  \n",
       "15      0.0  \n",
       "16      1.0  \n",
       "17      1.0  \n",
       "18      0.0  \n",
       "19      0.0  "
      ]
     },
     "execution_count": 6,
     "metadata": {},
     "output_type": "execute_result"
    }
   ],
   "source": [
    "data.head(20)"
   ]
  },
  {
   "cell_type": "markdown",
   "metadata": {},
   "source": [
    "**Features and output of the data**"
   ]
  },
  {
   "cell_type": "code",
   "execution_count": 7,
   "metadata": {},
   "outputs": [],
   "source": [
    "features = iris.feature_names\n",
    "output = 'species'"
   ]
  },
  {
   "cell_type": "markdown",
   "metadata": {},
   "source": [
    "## 2. Preprocess the data for deep learning model"
   ]
  },
  {
   "cell_type": "markdown",
   "metadata": {},
   "source": [
    "`Note:` I did not use a separate validation set in this excercise since the iris data contains only 150 examples. It is difficult to split such a small data into train, validation, and test sets. According to literature it is ok to leave out the validation set in such case. For such a small data K fold cross validation is a viable option; but K fold cross validation is used for normal machine learning algorithms, not deep learning algorithms. Deep learning algorithms works best in the big data regime, training deep learning models takes more time than training normal machine learning models. Hence, engineers do not use K fold cross validation for training deep learning models."
   ]
  },
  {
   "cell_type": "markdown",
   "metadata": {},
   "source": [
    "**Do a train test split**"
   ]
  },
  {
   "cell_type": "code",
   "execution_count": 8,
   "metadata": {},
   "outputs": [],
   "source": [
    "train_data, test_data = train_test_split(data, test_size = 0.266, random_state = 1)"
   ]
  },
  {
   "cell_type": "markdown",
   "metadata": {},
   "source": [
    "**A function to extract feature matrix and output vector**"
   ]
  },
  {
   "cell_type": "code",
   "execution_count": 9,
   "metadata": {},
   "outputs": [],
   "source": [
    "def get_xy_data(dataframe, features = None, output = None):\n",
    "\n",
    "    '''a function for parsing the feature matrix and output array from a pandas dataframe'''\n",
    "\n",
    "    # to ignore pandas warning\n",
    "    import warnings\n",
    "    warnings.filterwarnings('ignore')\n",
    "\n",
    "    # import numpy\n",
    "    import numpy as np\n",
    "\n",
    "    # if no featues are given then just return the a numpy matrix of the dataframe\n",
    "    if features == None:\n",
    "        return dataframe.as_matrix()\n",
    "\n",
    "    # extract the feature matrix and convert it to numpy array\n",
    "    X = dataframe[features].as_matrix()\n",
    "\n",
    "    # if there is no output\n",
    "    if output == None:\n",
    "        return X\n",
    "    # if the output vector is wanted by the user\n",
    "    else:\n",
    "        # extracting the output columns and converting it to numpy array\n",
    "        y = dataframe[output].as_matrix()\n",
    "        y = np.reshape(y, (-1,1))\n",
    "        # returning the feature matrix and output vector\n",
    "        return (X, y)"
   ]
  },
  {
   "cell_type": "markdown",
   "metadata": {},
   "source": [
    "**Extract X y data for train and test set**"
   ]
  },
  {
   "cell_type": "code",
   "execution_count": 10,
   "metadata": {},
   "outputs": [],
   "source": [
    "X_train, Y_train = get_xy_data(train_data, features=features, output=output)\n",
    "X_test, Y_test = get_xy_data(test_data, features=features, output=output)"
   ]
  },
  {
   "cell_type": "markdown",
   "metadata": {},
   "source": [
    "**Onehot encoding the y data**"
   ]
  },
  {
   "cell_type": "code",
   "execution_count": 11,
   "metadata": {},
   "outputs": [],
   "source": [
    "encoder = OneHotEncoder()\n",
    "Y_train = encoder.fit_transform(Y_train)\n",
    "Y_train = Y_train.toarray()\n",
    "Y_test = encoder.transform(Y_test)\n",
    "Y_test = Y_test.toarray()"
   ]
  },
  {
   "cell_type": "code",
   "execution_count": 12,
   "metadata": {},
   "outputs": [
    {
     "name": "stdout",
     "output_type": "stream",
     "text": [
      "(110, 4)\n",
      "(110, 3)\n"
     ]
    }
   ],
   "source": [
    "print(X_train.shape)\n",
    "print(Y_train.shape)"
   ]
  },
  {
   "cell_type": "code",
   "execution_count": 13,
   "metadata": {},
   "outputs": [
    {
     "name": "stdout",
     "output_type": "stream",
     "text": [
      "(40, 4)\n",
      "(40, 3)\n"
     ]
    }
   ],
   "source": [
    "print(X_test.shape)\n",
    "print(Y_test.shape)"
   ]
  },
  {
   "cell_type": "markdown",
   "metadata": {},
   "source": [
    "## 3. Train the first neural network for classification"
   ]
  },
  {
   "cell_type": "markdown",
   "metadata": {},
   "source": [
    "Implementation of first neural network is a dirty implementation which allows machine learning engineers to test if the network along with its hyperparameters, architecture, and loss function actually works. After creating the dirty implementation engineers do hyperparameter tuning. Now the iris dataset is a very simple data to create a very accurate first implementation. Things will not be so easy for example creating a yolo object detection network for detecting vehicles, pedestrians, and road signs for self driving system.  "
   ]
  },
  {
   "cell_type": "markdown",
   "metadata": {},
   "source": [
    "**Neural network architecture**"
   ]
  },
  {
   "cell_type": "code",
   "execution_count": 14,
   "metadata": {},
   "outputs": [],
   "source": [
    "layers_dims = [4,4,8,8,4,3]"
   ]
  },
  {
   "cell_type": "markdown",
   "metadata": {},
   "source": [
    "**Create a nn model object**"
   ]
  },
  {
   "cell_type": "code",
   "execution_count": 15,
   "metadata": {},
   "outputs": [],
   "source": [
    "model = ann(layers_dims=layers_dims)"
   ]
  },
  {
   "cell_type": "markdown",
   "metadata": {},
   "source": [
    "**Hyperparameters of the model**"
   ]
  },
  {
   "cell_type": "code",
   "execution_count": 16,
   "metadata": {},
   "outputs": [],
   "source": [
    "batch_size = X_train.shape[0]\n",
    "learning_rate = 0.1*.5\n",
    "num_iterations = 40000"
   ]
  },
  {
   "cell_type": "markdown",
   "metadata": {},
   "source": [
    "**Fit the model**"
   ]
  },
  {
   "cell_type": "code",
   "execution_count": 17,
   "metadata": {},
   "outputs": [
    {
     "name": "stdout",
     "output_type": "stream",
     "text": [
      "Log loss after iteration 0: 1.141538\n",
      "Log loss after iteration 100: 1.097231\n",
      "Log loss after iteration 200: 1.101953\n",
      "Log loss after iteration 300: 1.097959\n",
      "Log loss after iteration 400: 1.095068\n",
      "Log loss after iteration 500: 1.095910\n",
      "Log loss after iteration 600: 1.096005\n",
      "Log loss after iteration 700: 1.098199\n",
      "Log loss after iteration 800: 1.102550\n",
      "Log loss after iteration 900: 1.099853\n",
      "Log loss after iteration 1000: 1.095382\n",
      "Log loss after iteration 1100: 1.099318\n",
      "Log loss after iteration 1200: 1.088701\n",
      "Log loss after iteration 1300: 1.095299\n",
      "Log loss after iteration 1400: 1.096558\n",
      "Log loss after iteration 1500: 1.096727\n",
      "Log loss after iteration 1600: 1.098543\n",
      "Log loss after iteration 1700: 1.099408\n",
      "Log loss after iteration 1800: 1.101593\n",
      "Log loss after iteration 1900: 1.097817\n",
      "Log loss after iteration 2000: 1.098948\n",
      "Log loss after iteration 2100: 1.099111\n",
      "Log loss after iteration 2200: 1.097732\n",
      "Log loss after iteration 2300: 1.097172\n",
      "Log loss after iteration 2400: 1.094945\n",
      "Log loss after iteration 2500: 1.096410\n",
      "Log loss after iteration 2600: 1.095079\n",
      "Log loss after iteration 2700: 1.092685\n",
      "Log loss after iteration 2800: 1.093785\n",
      "Log loss after iteration 2900: 1.096380\n",
      "Log loss after iteration 3000: 1.085926\n",
      "Log loss after iteration 3100: 1.086663\n",
      "Log loss after iteration 3200: 1.086084\n",
      "Log loss after iteration 3300: 1.086688\n",
      "Log loss after iteration 3400: 1.079885\n",
      "Log loss after iteration 3500: 1.071297\n",
      "Log loss after iteration 3600: 1.065327\n",
      "Log loss after iteration 3700: 1.057986\n",
      "Log loss after iteration 3800: 1.013874\n",
      "Log loss after iteration 3900: 0.995266\n",
      "Log loss after iteration 4000: 0.924267\n",
      "Log loss after iteration 4100: 0.836937\n",
      "Log loss after iteration 4200: 0.784408\n",
      "Log loss after iteration 4300: 0.627154\n",
      "Log loss after iteration 4400: 0.585327\n",
      "Log loss after iteration 4500: 0.529606\n",
      "Log loss after iteration 4600: 0.517681\n",
      "Log loss after iteration 4700: 0.486039\n",
      "Log loss after iteration 4800: 0.548227\n",
      "Log loss after iteration 4900: 0.521728\n",
      "Log loss after iteration 5000: 0.451106\n",
      "Log loss after iteration 5100: 0.521100\n",
      "Log loss after iteration 5200: 0.466852\n",
      "Log loss after iteration 5300: 0.475298\n",
      "Log loss after iteration 5400: 0.484668\n",
      "Log loss after iteration 5500: 0.457975\n",
      "Log loss after iteration 5600: 0.468992\n",
      "Log loss after iteration 5700: 0.491565\n",
      "Log loss after iteration 5800: 0.457090\n",
      "Log loss after iteration 5900: 0.494358\n",
      "Log loss after iteration 6000: 0.540699\n",
      "Log loss after iteration 6100: 0.425706\n",
      "Log loss after iteration 6200: 0.473048\n",
      "Log loss after iteration 6300: 0.444992\n",
      "Log loss after iteration 6400: 0.450718\n",
      "Log loss after iteration 6500: 0.409078\n",
      "Log loss after iteration 6600: 0.507683\n",
      "Log loss after iteration 6700: 0.514407\n",
      "Log loss after iteration 6800: 0.475052\n",
      "Log loss after iteration 6900: 0.447033\n",
      "Log loss after iteration 7000: 0.427223\n",
      "Log loss after iteration 7100: 0.414007\n",
      "Log loss after iteration 7200: 0.449520\n",
      "Log loss after iteration 7300: 0.458441\n",
      "Log loss after iteration 7400: 0.410357\n",
      "Log loss after iteration 7500: 0.465695\n",
      "Log loss after iteration 7600: 0.403759\n",
      "Log loss after iteration 7700: 0.410157\n",
      "Log loss after iteration 7800: 0.432819\n",
      "Log loss after iteration 7900: 0.349529\n",
      "Log loss after iteration 8000: 0.372084\n",
      "Log loss after iteration 8100: 0.329165\n",
      "Log loss after iteration 8200: 0.302499\n",
      "Log loss after iteration 8300: 0.296917\n",
      "Log loss after iteration 8400: 0.284296\n",
      "Log loss after iteration 8500: 0.235990\n",
      "Log loss after iteration 8600: 0.217064\n",
      "Log loss after iteration 8700: 0.200890\n",
      "Log loss after iteration 8800: 0.233887\n",
      "Log loss after iteration 8900: 0.213202\n",
      "Log loss after iteration 9000: 0.175328\n",
      "Log loss after iteration 9100: 0.246614\n",
      "Log loss after iteration 9200: 0.148774\n",
      "Log loss after iteration 9300: 0.147712\n",
      "Log loss after iteration 9400: 0.143669\n",
      "Log loss after iteration 9500: 0.125833\n",
      "Log loss after iteration 9600: 0.136769\n",
      "Log loss after iteration 9700: 0.161923\n",
      "Log loss after iteration 9800: 0.120981\n",
      "Log loss after iteration 9900: 0.123116\n",
      "Log loss after iteration 10000: 0.144125\n",
      "Log loss after iteration 10100: 0.127515\n",
      "Log loss after iteration 10200: 0.092186\n",
      "Log loss after iteration 10300: 0.076727\n",
      "Log loss after iteration 10400: 0.107118\n",
      "Log loss after iteration 10500: 0.077702\n",
      "Log loss after iteration 10600: 0.071347\n",
      "Log loss after iteration 10700: 0.072004\n",
      "Log loss after iteration 10800: 0.076023\n",
      "Log loss after iteration 10900: 0.134649\n",
      "Log loss after iteration 11000: 0.077602\n",
      "Log loss after iteration 11100: 0.060490\n",
      "Log loss after iteration 11200: 0.089926\n",
      "Log loss after iteration 11300: 0.080683\n",
      "Log loss after iteration 11400: 0.093115\n",
      "Log loss after iteration 11500: 0.094916\n",
      "Log loss after iteration 11600: 0.063480\n",
      "Log loss after iteration 11700: 0.080398\n",
      "Log loss after iteration 11800: 0.049399\n",
      "Log loss after iteration 11900: 0.052444\n",
      "Log loss after iteration 12000: 0.068840\n",
      "Log loss after iteration 12100: 0.110633\n",
      "Log loss after iteration 12200: 0.117500\n",
      "Log loss after iteration 12300: 0.171030\n",
      "Log loss after iteration 12400: 0.104685\n",
      "Log loss after iteration 12500: 0.044344\n",
      "Log loss after iteration 12600: 0.076577\n",
      "Log loss after iteration 12700: 0.094206\n",
      "Log loss after iteration 12800: 0.084340\n",
      "Log loss after iteration 12900: 0.090057\n",
      "Log loss after iteration 13000: 0.066107\n",
      "Log loss after iteration 13100: 0.094670\n",
      "Log loss after iteration 13200: 0.094415\n",
      "Log loss after iteration 13300: 0.063620\n",
      "Log loss after iteration 13400: 0.051361\n",
      "Log loss after iteration 13500: 0.097158\n",
      "Log loss after iteration 13600: 0.069109\n",
      "Log loss after iteration 13700: 0.041060\n",
      "Log loss after iteration 13800: 0.085837\n",
      "Log loss after iteration 13900: 0.047142\n",
      "Log loss after iteration 14000: 0.086959\n",
      "Log loss after iteration 14100: 0.091103\n",
      "Log loss after iteration 14200: 0.075235\n",
      "Log loss after iteration 14300: 0.039425\n",
      "Log loss after iteration 14400: 0.041641\n",
      "Log loss after iteration 14500: 0.087002\n",
      "Log loss after iteration 14600: 0.056866\n",
      "Log loss after iteration 14700: 0.067571\n",
      "Log loss after iteration 14800: 0.040358\n",
      "Log loss after iteration 14900: 0.045372\n",
      "Log loss after iteration 15000: 0.065317\n",
      "Log loss after iteration 15100: 0.052113\n",
      "Log loss after iteration 15200: 0.062728\n",
      "Log loss after iteration 15300: 0.052232\n",
      "Log loss after iteration 15400: 0.045335\n",
      "Log loss after iteration 15500: 0.037355\n",
      "Log loss after iteration 15600: 0.059230\n",
      "Log loss after iteration 15700: 0.144452\n",
      "Log loss after iteration 15800: 0.068376\n",
      "Log loss after iteration 15900: 0.049710\n",
      "Log loss after iteration 16000: 0.057913\n",
      "Log loss after iteration 16100: 0.060318\n",
      "Log loss after iteration 16200: 0.050659\n",
      "Log loss after iteration 16300: 0.124472\n",
      "Log loss after iteration 16400: 0.057547\n",
      "Log loss after iteration 16500: 0.088775\n",
      "Log loss after iteration 16600: 0.036774\n",
      "Log loss after iteration 16700: 0.089323\n",
      "Log loss after iteration 16800: 0.033823\n",
      "Log loss after iteration 16900: 0.093966\n",
      "Log loss after iteration 17000: 0.183675\n",
      "Log loss after iteration 17100: 0.059407\n",
      "Log loss after iteration 17200: 0.046297\n",
      "Log loss after iteration 17300: 0.025516\n",
      "Log loss after iteration 17400: 0.029251\n",
      "Log loss after iteration 17500: 0.060717\n",
      "Log loss after iteration 17600: 0.091489\n",
      "Log loss after iteration 17700: 0.075355\n",
      "Log loss after iteration 17800: 0.031489\n",
      "Log loss after iteration 17900: 0.051996\n",
      "Log loss after iteration 18000: 0.167617\n",
      "Log loss after iteration 18100: 0.043271\n",
      "Log loss after iteration 18200: 0.048977\n",
      "Log loss after iteration 18300: 0.044606\n",
      "Log loss after iteration 18400: 0.057873\n",
      "Log loss after iteration 18500: 0.079249\n",
      "Log loss after iteration 18600: 0.031190\n",
      "Log loss after iteration 18700: 0.027122\n",
      "Log loss after iteration 18800: 0.070908\n",
      "Log loss after iteration 18900: 0.104234\n",
      "Log loss after iteration 19000: 0.016092\n",
      "Log loss after iteration 19100: 0.085568\n",
      "Log loss after iteration 19200: 0.026616\n",
      "Log loss after iteration 19300: 0.052972\n",
      "Log loss after iteration 19400: 0.018711\n",
      "Log loss after iteration 19500: 0.068132\n",
      "Log loss after iteration 19600: 0.019239\n",
      "Log loss after iteration 19700: 0.057989\n",
      "Log loss after iteration 19800: 0.027523\n",
      "Log loss after iteration 19900: 0.026035\n",
      "Log loss after iteration 20000: 0.083647\n",
      "Log loss after iteration 20100: 0.116517\n",
      "Log loss after iteration 20200: 0.050174\n"
     ]
    },
    {
     "name": "stdout",
     "output_type": "stream",
     "text": [
      "Log loss after iteration 20300: 0.027252\n",
      "Log loss after iteration 20400: 0.056130\n",
      "Log loss after iteration 20500: 0.085318\n",
      "Log loss after iteration 20600: 0.017564\n",
      "Log loss after iteration 20700: 0.032119\n",
      "Log loss after iteration 20800: 0.050925\n",
      "Log loss after iteration 20900: 0.021125\n",
      "Log loss after iteration 21000: 0.034156\n",
      "Log loss after iteration 21100: 0.032036\n",
      "Log loss after iteration 21200: 0.107726\n",
      "Log loss after iteration 21300: 0.089142\n",
      "Log loss after iteration 21400: 0.018240\n",
      "Log loss after iteration 21500: 0.024275\n",
      "Log loss after iteration 21600: 0.020017\n",
      "Log loss after iteration 21700: 0.015403\n",
      "Log loss after iteration 21800: 0.105771\n",
      "Log loss after iteration 21900: 0.060250\n",
      "Log loss after iteration 22000: 0.100183\n",
      "Log loss after iteration 22100: 0.169862\n",
      "Log loss after iteration 22200: 0.052679\n",
      "Log loss after iteration 22300: 0.051355\n",
      "Log loss after iteration 22400: 0.046148\n",
      "Log loss after iteration 22500: 0.109101\n",
      "Log loss after iteration 22600: 0.027459\n",
      "Log loss after iteration 22700: 0.083282\n",
      "Log loss after iteration 22800: 0.050851\n",
      "Log loss after iteration 22900: 0.044547\n",
      "Log loss after iteration 23000: 0.057898\n",
      "Log loss after iteration 23100: 0.077795\n",
      "Log loss after iteration 23200: 0.013936\n",
      "Log loss after iteration 23300: 0.055414\n",
      "Log loss after iteration 23400: 0.124773\n",
      "Log loss after iteration 23500: 0.066637\n",
      "Log loss after iteration 23600: 0.056938\n",
      "Log loss after iteration 23700: 0.050754\n",
      "Log loss after iteration 23800: 0.018727\n",
      "Log loss after iteration 23900: 0.084728\n",
      "Log loss after iteration 24000: 0.052523\n",
      "Log loss after iteration 24100: 0.115389\n",
      "Log loss after iteration 24200: 0.116157\n",
      "Log loss after iteration 24300: 0.083357\n",
      "Log loss after iteration 24400: 0.016763\n",
      "Log loss after iteration 24500: 0.092948\n",
      "Log loss after iteration 24600: 0.044386\n",
      "Log loss after iteration 24700: 0.112470\n",
      "Log loss after iteration 24800: 0.137813\n",
      "Log loss after iteration 24900: 0.075653\n",
      "Log loss after iteration 25000: 0.051496\n",
      "Log loss after iteration 25100: 0.079519\n",
      "Log loss after iteration 25200: 0.021277\n",
      "Log loss after iteration 25300: 0.075983\n",
      "Log loss after iteration 25400: 0.083984\n",
      "Log loss after iteration 25500: 0.104605\n",
      "Log loss after iteration 25600: 0.019768\n",
      "Log loss after iteration 25700: 0.081126\n",
      "Log loss after iteration 25800: 0.017601\n",
      "Log loss after iteration 25900: 0.090737\n",
      "Log loss after iteration 26000: 0.017524\n",
      "Log loss after iteration 26100: 0.044486\n",
      "Log loss after iteration 26200: 0.043170\n",
      "Log loss after iteration 26300: 0.019579\n",
      "Log loss after iteration 26400: 0.011469\n",
      "Log loss after iteration 26500: 0.049445\n",
      "Log loss after iteration 26600: 0.053665\n",
      "Log loss after iteration 26700: 0.011038\n",
      "Log loss after iteration 26800: 0.060985\n",
      "Log loss after iteration 26900: 0.048634\n",
      "Log loss after iteration 27000: 0.048783\n",
      "Log loss after iteration 27100: 0.049509\n",
      "Log loss after iteration 27200: 0.017901\n",
      "Log loss after iteration 27300: 0.047500\n",
      "Log loss after iteration 27400: 0.034137\n",
      "Log loss after iteration 27500: 0.107944\n",
      "Log loss after iteration 27600: 0.046724\n",
      "Log loss after iteration 27700: 0.083411\n",
      "Log loss after iteration 27800: 0.019248\n",
      "Log loss after iteration 27900: 0.051373\n",
      "Log loss after iteration 28000: 0.051630\n",
      "Log loss after iteration 28100: 0.154676\n",
      "Log loss after iteration 28200: 0.014475\n",
      "Log loss after iteration 28300: 0.011534\n",
      "Log loss after iteration 28400: 0.079046\n",
      "Log loss after iteration 28500: 0.024172\n",
      "Log loss after iteration 28600: 0.089739\n",
      "Log loss after iteration 28700: 0.050234\n",
      "Log loss after iteration 28800: 0.017284\n",
      "Log loss after iteration 28900: 0.020675\n",
      "Log loss after iteration 29000: 0.083822\n",
      "Log loss after iteration 29100: 0.015396\n",
      "Log loss after iteration 29200: 0.014831\n",
      "Log loss after iteration 29300: 0.019092\n",
      "Log loss after iteration 29400: 0.013592\n",
      "Log loss after iteration 29500: 0.015956\n",
      "Log loss after iteration 29600: 0.011959\n",
      "Log loss after iteration 29700: 0.048825\n",
      "Log loss after iteration 29800: 0.079506\n",
      "Log loss after iteration 29900: 0.078767\n",
      "Log loss after iteration 30000: 0.018929\n",
      "Log loss after iteration 30100: 0.046713\n",
      "Log loss after iteration 30200: 0.049740\n",
      "Log loss after iteration 30300: 0.016665\n",
      "Log loss after iteration 30400: 0.015962\n",
      "Log loss after iteration 30500: 0.079708\n",
      "Log loss after iteration 30600: 0.011605\n",
      "Log loss after iteration 30700: 0.045254\n",
      "Log loss after iteration 30800: 0.043062\n",
      "Log loss after iteration 30900: 0.075973\n",
      "Log loss after iteration 31000: 0.083404\n",
      "Log loss after iteration 31100: 0.046072\n",
      "Log loss after iteration 31200: 0.075988\n",
      "Log loss after iteration 31300: 0.081139\n",
      "Log loss after iteration 31400: 0.047834\n",
      "Log loss after iteration 31500: 0.056627\n",
      "Log loss after iteration 31600: 0.046652\n",
      "Log loss after iteration 31700: 0.011921\n",
      "Log loss after iteration 31800: 0.042386\n",
      "Log loss after iteration 31900: 0.017118\n",
      "Log loss after iteration 32000: 0.044602\n",
      "Log loss after iteration 32100: 0.049470\n",
      "Log loss after iteration 32200: 0.074906\n",
      "Log loss after iteration 32300: 0.012929\n",
      "Log loss after iteration 32400: 0.146536\n",
      "Log loss after iteration 32500: 0.078071\n",
      "Log loss after iteration 32600: 0.048422\n",
      "Log loss after iteration 32700: 0.076857\n",
      "Log loss after iteration 32800: 0.061080\n",
      "Log loss after iteration 32900: 0.078548\n",
      "Log loss after iteration 33000: 0.046067\n",
      "Log loss after iteration 33100: 0.109253\n",
      "Log loss after iteration 33200: 0.052368\n",
      "Log loss after iteration 33300: 0.109296\n",
      "Log loss after iteration 33400: 0.015114\n",
      "Log loss after iteration 33500: 0.046102\n",
      "Log loss after iteration 33600: 0.010742\n",
      "Log loss after iteration 33700: 0.010537\n",
      "Log loss after iteration 33800: 0.047841\n",
      "Log loss after iteration 33900: 0.080777\n",
      "Log loss after iteration 34000: 0.014627\n",
      "Log loss after iteration 34100: 0.110278\n",
      "Log loss after iteration 34200: 0.046011\n",
      "Log loss after iteration 34300: 0.078266\n",
      "Log loss after iteration 34400: 0.108602\n",
      "Log loss after iteration 34500: 0.107082\n",
      "Log loss after iteration 34600: 0.043325\n",
      "Log loss after iteration 34700: 0.009922\n",
      "Log loss after iteration 34800: 0.113525\n",
      "Log loss after iteration 34900: 0.010147\n",
      "Log loss after iteration 35000: 0.009856\n",
      "Log loss after iteration 35100: 0.052732\n",
      "Log loss after iteration 35200: 0.014798\n",
      "Log loss after iteration 35300: 0.110366\n",
      "Log loss after iteration 35400: 0.044366\n",
      "Log loss after iteration 35500: 0.011175\n",
      "Log loss after iteration 35600: 0.042309\n",
      "Log loss after iteration 35700: 0.012535\n",
      "Log loss after iteration 35800: 0.010831\n",
      "Log loss after iteration 35900: 0.014372\n",
      "Log loss after iteration 36000: 0.047036\n",
      "Log loss after iteration 36100: 0.043836\n",
      "Log loss after iteration 36200: 0.056075\n",
      "Log loss after iteration 36300: 0.045658\n",
      "Log loss after iteration 36400: 0.045166\n",
      "Log loss after iteration 36500: 0.075616\n",
      "Log loss after iteration 36600: 0.011896\n",
      "Log loss after iteration 36700: 0.042145\n",
      "Log loss after iteration 36800: 0.041663\n",
      "Log loss after iteration 36900: 0.012112\n",
      "Log loss after iteration 37000: 0.109495\n",
      "Log loss after iteration 37100: 0.044709\n",
      "Log loss after iteration 37200: 0.014499\n",
      "Log loss after iteration 37300: 0.010141\n",
      "Log loss after iteration 37400: 0.050193\n",
      "Log loss after iteration 37500: 0.081021\n",
      "Log loss after iteration 37600: 0.044517\n",
      "Log loss after iteration 37700: 0.072723\n",
      "Log loss after iteration 37800: 0.010954\n",
      "Log loss after iteration 37900: 0.021951\n",
      "Log loss after iteration 38000: 0.046208\n",
      "Log loss after iteration 38100: 0.042099\n",
      "Log loss after iteration 38200: 0.078032\n",
      "Log loss after iteration 38300: 0.013275\n",
      "Log loss after iteration 38400: 0.047146\n",
      "Log loss after iteration 38500: 0.012360\n",
      "Log loss after iteration 38600: 0.044210\n",
      "Log loss after iteration 38700: 0.044475\n",
      "Log loss after iteration 38800: 0.044482\n",
      "Log loss after iteration 38900: 0.115442\n",
      "Log loss after iteration 39000: 0.010687\n",
      "Log loss after iteration 39100: 0.077500\n",
      "Log loss after iteration 39200: 0.016892\n",
      "Log loss after iteration 39300: 0.047485\n",
      "Log loss after iteration 39400: 0.011253\n",
      "Log loss after iteration 39500: 0.016864\n",
      "Log loss after iteration 39600: 0.136349\n",
      "Log loss after iteration 39700: 0.141368\n",
      "Log loss after iteration 39800: 0.045631\n",
      "Log loss after iteration 39900: 0.009295\n",
      "Log loss after iteration 40000: 0.108390\n",
      "Accuracy: 0.975\n"
     ]
    }
   ],
   "source": [
    "model.fit(X_train, Y_train, X_test, Y_test, batch_size,\n",
    "          learning_rate = learning_rate, \n",
    "          num_iterations = num_iterations, print_cost=True, random_seed = 0)"
   ]
  },
  {
   "cell_type": "markdown",
   "metadata": {},
   "source": [
    "**Plot of Cost vs Iteration**"
   ]
  },
  {
   "cell_type": "code",
   "execution_count": 18,
   "metadata": {},
   "outputs": [
    {
     "data": {
      "image/png": "[encoded data removed]",
      "text/plain": [
       "<Figure size 432x288 with 1 Axes>"
      ]
     },
     "metadata": {},
     "output_type": "display_data"
    }
   ],
   "source": [
    "plt.plot(np.squeeze(model.costs))\n",
    "plt.ylabel('Log loss')\n",
    "plt.xlabel('iterations (per tens)')\n",
    "plt.title(\"Plot of Cost vs Iteration\")\n",
    "plt.show()"
   ]
  },
  {
   "cell_type": "markdown",
   "metadata": {},
   "source": [
    "## 4. Caviar Strategy for hyperparameter tuning"
   ]
  },
  {
   "cell_type": "markdown",
   "metadata": {},
   "source": [
    "There are 2 strategies for deep learning hyperparamter tuning: 1) Panda strategy in which we babysit a single model, this is applicable if computing resource is limited 2) Caviar strategy in which we randomly initialize a number of hyperparameter settings and train neural network models using the different settings and then choose the one with the lowest error, this is strategy is applicable if we have enormous computing resource. In this notebook I will choose to tune the parameters of learning rate and nn architecture (# hidden layers, # hidden layer nodes) using caviar strategy."
   ]
  },
  {
   "cell_type": "markdown",
   "metadata": {},
   "source": [
    "**Function to randomly generate a given number of nn architectures**"
   ]
  },
  {
   "cell_type": "code",
   "execution_count": 19,
   "metadata": {},
   "outputs": [],
   "source": [
    "def hidden_layer_and_node_generator(model_num, num_input, num_output, randome_seed = 0, low = 8, high=17):\n",
    "    \n",
    "    '''a function to randomly generate a given number of nn architectures'''\n",
    "    \n",
    "    # set the random seed\n",
    "    np.random.seed(randome_seed)\n",
    "    \n",
    "    # list to store the architectures\n",
    "    model_architecture_list = []\n",
    "    \n",
    "    # iterate given number of times\n",
    "    for i in range(model_num):\n",
    "        # randomly generate number of hidden layers\n",
    "        num_hidden = np.random.randint(low = 3, high = 6)\n",
    "        # randomly generate the number of nodes in each layer\n",
    "        layers_dims = np.random.randint(low = low, high = high, size = num_hidden)\n",
    "        layers_dims = layers_dims.tolist()\n",
    "        # insert the input and output layer\n",
    "        layers_dims.insert(0,num_input)\n",
    "        layers_dims.append(num_output)\n",
    "        # append the architecture to the designated list\n",
    "        model_architecture_list.append(layers_dims)\n",
    "    \n",
    "    return model_architecture_list"
   ]
  },
  {
   "cell_type": "markdown",
   "metadata": {},
   "source": [
    "**Create a list of learning rates to choose from**"
   ]
  },
  {
   "cell_type": "code",
   "execution_count": 20,
   "metadata": {},
   "outputs": [
    {
     "data": {
      "text/plain": [
       "array([0.05  , 0.0523, 0.0545, 0.0568, 0.059 , 0.0613, 0.0636, 0.0658,\n",
       "       0.0681, 0.0704, 0.0726, 0.0749, 0.0771, 0.0794, 0.0817, 0.0839,\n",
       "       0.0862, 0.0884, 0.0907, 0.093 , 0.0952, 0.0975, 0.0997, 0.102 ,\n",
       "       0.1043, 0.1065, 0.1088, 0.1111, 0.1133, 0.1156, 0.1178, 0.1201,\n",
       "       0.1224, 0.1246, 0.1269, 0.1291, 0.1314, 0.1337, 0.1359, 0.1382,\n",
       "       0.1405, 0.1427, 0.145 , 0.1472, 0.1495, 0.1518, 0.154 , 0.1563,\n",
       "       0.1585, 0.1608, 0.1631, 0.1653, 0.1676, 0.1698, 0.1721, 0.1744,\n",
       "       0.1766, 0.1789, 0.1812, 0.1834, 0.1857, 0.1879, 0.1902, 0.1925,\n",
       "       0.1947, 0.197 , 0.1992, 0.2015, 0.2038, 0.206 , 0.2083, 0.2106,\n",
       "       0.2128, 0.2151, 0.2173, 0.2196, 0.2219, 0.2241, 0.2264, 0.2286,\n",
       "       0.2309, 0.2332, 0.2354, 0.2377, 0.2399, 0.2422, 0.2445, 0.2467,\n",
       "       0.249 , 0.2513, 0.2535, 0.2558, 0.258 , 0.2603, 0.2626, 0.2648,\n",
       "       0.2671, 0.2693, 0.2716, 0.2739, 0.2761, 0.2784, 0.2807, 0.2829,\n",
       "       0.2852, 0.2874, 0.2897, 0.292 , 0.2942, 0.2965, 0.2987, 0.301 ,\n",
       "       0.3033, 0.3055, 0.3078, 0.3101, 0.3123, 0.3146, 0.3168, 0.3191,\n",
       "       0.3214, 0.3236, 0.3259, 0.3281, 0.3304, 0.3327, 0.3349, 0.3372,\n",
       "       0.3394, 0.3417, 0.344 , 0.3462, 0.3485, 0.3508, 0.353 , 0.3553,\n",
       "       0.3575, 0.3598, 0.3621, 0.3643, 0.3666, 0.3688, 0.3711, 0.3734,\n",
       "       0.3756, 0.3779, 0.3802, 0.3824, 0.3847, 0.3869, 0.3892, 0.3915,\n",
       "       0.3937, 0.396 , 0.3982, 0.4005, 0.4028, 0.405 , 0.4073, 0.4095,\n",
       "       0.4118, 0.4141, 0.4163, 0.4186, 0.4209, 0.4231, 0.4254, 0.4276,\n",
       "       0.4299, 0.4322, 0.4344, 0.4367, 0.4389, 0.4412, 0.4435, 0.4457,\n",
       "       0.448 , 0.4503, 0.4525, 0.4548, 0.457 , 0.4593, 0.4616, 0.4638,\n",
       "       0.4661, 0.4683, 0.4706, 0.4729, 0.4751, 0.4774, 0.4796, 0.4819,\n",
       "       0.4842, 0.4864, 0.4887, 0.491 , 0.4932, 0.4955, 0.4977, 0.5   ])"
      ]
     },
     "execution_count": 20,
     "metadata": {},
     "output_type": "execute_result"
    }
   ],
   "source": [
    "learning_rates = np.round(np.linspace(0.1*0.5,0.1*5,num=200),4)\n",
    "learning_rates"
   ]
  },
  {
   "cell_type": "markdown",
   "metadata": {},
   "source": [
    "**Function to randomly generate a given number of learning rates**"
   ]
  },
  {
   "cell_type": "code",
   "execution_count": 21,
   "metadata": {},
   "outputs": [],
   "source": [
    "def learning_rate_generator(learning_rates, model_num, randome_seed = 0):\n",
    "    \n",
    "    '''a function to randomly generate a given number of learning rates'''\n",
    "    \n",
    "    np.random.seed(randome_seed)\n",
    "    \n",
    "    return np.random.choice(learning_rates, size=model_num).tolist()"
   ]
  },
  {
   "cell_type": "markdown",
   "metadata": {},
   "source": [
    "**Function which implements a caviar strategy search**"
   ]
  },
  {
   "cell_type": "code",
   "execution_count": 22,
   "metadata": {},
   "outputs": [],
   "source": [
    "def caviar_strategy_search(model_num, batch_size, model_directory, randome_seed = 0, num_iterations = 40000):\n",
    "    \n",
    "    '''a function which implements a caviar strategy search'''\n",
    "    \n",
    "    # randomly generate a list of learning rates\n",
    "    learning_rate_list = learning_rate_generator(learning_rates, model_num, randome_seed = randome_seed)\n",
    "    # randomly generate a list of architectures \n",
    "    model_architecture_list = hidden_layer_and_node_generator(model_num,4,3, randome_seed = randome_seed)\n",
    "    # lists to store the costs and accuracy of models\n",
    "    cost_list = []\n",
    "    accuracy_list = []\n",
    "    \n",
    "    # iterate a given number of times\n",
    "    for i in range(model_num):\n",
    "        # create and fit a nn model with given architecture\n",
    "        model = ann(layers_dims=model_architecture_list[i])\n",
    "        model.fit(X_train, Y_train, X_test, Y_test, batch_size,\n",
    "                  learning_rate = learning_rate_list[i], \n",
    "                  num_iterations = num_iterations, print_cost=False, random_seed = randome_seed)\n",
    "        \n",
    "        #pickling the model\n",
    "        pickle_out = open(model_directory+\"iris_model_\"+str(i+1)+\".mdl\",\"wb\")\n",
    "        pickle.dump(model, pickle_out)\n",
    "        pickle_out.close()\n",
    "        \n",
    "        # append the average of last 4 costs to the designated list\n",
    "        cost_list.append(np.average(model.costs[-4:]))\n",
    "        # append the accuracy to the designated list\n",
    "        accuracy_list.append(model.accuracy)\n",
    "        \n",
    "        # print statement\n",
    "        print(\"Completed training and collected results for the model:\",str(i+1))\n",
    "        \n",
    "    return model_architecture_list, learning_rate_list, cost_list, accuracy_list"
   ]
  },
  {
   "cell_type": "markdown",
   "metadata": {},
   "source": [
    "**Do a caviar strategy search of hyperparameters**"
   ]
  },
  {
   "cell_type": "code",
   "execution_count": 23,
   "metadata": {},
   "outputs": [],
   "source": [
    "# number of models\n",
    "model_num = 20\n",
    "# batch size\n",
    "batch_size = X_train.shape[0]\n",
    "# random seed\n",
    "randome_seed = 0"
   ]
  },
  {
   "cell_type": "code",
   "execution_count": 24,
   "metadata": {},
   "outputs": [
    {
     "name": "stdout",
     "output_type": "stream",
     "text": [
      "Completed training and collected results for the model: 1\n",
      "Completed training and collected results for the model: 2\n",
      "Completed training and collected results for the model: 3\n",
      "Completed training and collected results for the model: 4\n",
      "Completed training and collected results for the model: 5\n",
      "Completed training and collected results for the model: 6\n",
      "Completed training and collected results for the model: 7\n",
      "Completed training and collected results for the model: 8\n",
      "Completed training and collected results for the model: 9\n",
      "Completed training and collected results for the model: 10\n",
      "Completed training and collected results for the model: 11\n",
      "Completed training and collected results for the model: 12\n",
      "Completed training and collected results for the model: 13\n",
      "Completed training and collected results for the model: 14\n",
      "Completed training and collected results for the model: 15\n",
      "Completed training and collected results for the model: 16\n",
      "Completed training and collected results for the model: 17\n",
      "Completed training and collected results for the model: 18\n",
      "Completed training and collected results for the model: 19\n",
      "Completed training and collected results for the model: 20\n"
     ]
    }
   ],
   "source": [
    "model_architecture_list, learning_rate_list, cost_list, accuracy_list = \\\n",
    "caviar_strategy_search(model_num, batch_size, './iris_models/',randome_seed = randome_seed)"
   ]
  },
  {
   "cell_type": "markdown",
   "metadata": {},
   "source": [
    "**Store the results in pandas dataframe**"
   ]
  },
  {
   "cell_type": "code",
   "execution_count": 25,
   "metadata": {},
   "outputs": [],
   "source": [
    "results = pd.DataFrame({\"model layers\": model_architecture_list,\n",
    "                        \"learning rate\": learning_rate_list,\n",
    "                        \"accuracy\": accuracy_list,\n",
    "                        \"Log loss\": cost_list})\n",
    "results = results.reindex(columns=[\"model layers\", \"learning rate\", \"accuracy\", \"Log loss\"])"
   ]
  },
  {
   "cell_type": "markdown",
   "metadata": {},
   "source": [
    "**Show the results**"
   ]
  },
  {
   "cell_type": "code",
   "execution_count": 26,
   "metadata": {},
   "outputs": [
    {
     "data": {
      "text/html": [
       "<div>\n",
       "<style scoped>\n",
       "    .dataframe tbody tr th:only-of-type {\n",
       "        vertical-align: middle;\n",
       "    }\n",
       "\n",
       "    .dataframe tbody tr th {\n",
       "        vertical-align: top;\n",
       "    }\n",
       "\n",
       "    .dataframe thead th {\n",
       "        text-align: right;\n",
       "    }\n",
       "</style>\n",
       "<table border=\"1\" class=\"dataframe\">\n",
       "  <thead>\n",
       "    <tr style=\"text-align: right;\">\n",
       "      <th></th>\n",
       "      <th>model layers</th>\n",
       "      <th>learning rate</th>\n",
       "      <th>accuracy</th>\n",
       "      <th>Log loss</th>\n",
       "    </tr>\n",
       "  </thead>\n",
       "  <tbody>\n",
       "    <tr>\n",
       "      <th>0</th>\n",
       "      <td>[4, 13, 8, 11, 3]</td>\n",
       "      <td>0.4389</td>\n",
       "      <td>0.950</td>\n",
       "      <td>0.075639</td>\n",
       "    </tr>\n",
       "    <tr>\n",
       "      <th>1</th>\n",
       "      <td>[4, 11, 13, 10, 12, 3]</td>\n",
       "      <td>0.1563</td>\n",
       "      <td>0.975</td>\n",
       "      <td>0.026402</td>\n",
       "    </tr>\n",
       "    <tr>\n",
       "      <th>2</th>\n",
       "      <td>[4, 16, 16, 9, 14, 15, 3]</td>\n",
       "      <td>0.3146</td>\n",
       "      <td>0.975</td>\n",
       "      <td>0.017473</td>\n",
       "    </tr>\n",
       "    <tr>\n",
       "      <th>3</th>\n",
       "      <td>[4, 16, 9, 13, 16, 12, 3]</td>\n",
       "      <td>0.4842</td>\n",
       "      <td>0.975</td>\n",
       "      <td>0.025969</td>\n",
       "    </tr>\n",
       "    <tr>\n",
       "      <th>4</th>\n",
       "      <td>[4, 11, 13, 8, 3]</td>\n",
       "      <td>0.2015</td>\n",
       "      <td>0.950</td>\n",
       "      <td>0.032692</td>\n",
       "    </tr>\n",
       "    <tr>\n",
       "      <th>5</th>\n",
       "      <td>[4, 11, 16, 9, 11, 11, 3]</td>\n",
       "      <td>0.4910</td>\n",
       "      <td>0.975</td>\n",
       "      <td>0.075492</td>\n",
       "    </tr>\n",
       "    <tr>\n",
       "      <th>6</th>\n",
       "      <td>[4, 15, 8, 9, 8, 12, 3]</td>\n",
       "      <td>0.2829</td>\n",
       "      <td>0.925</td>\n",
       "      <td>0.017143</td>\n",
       "    </tr>\n",
       "    <tr>\n",
       "      <th>7</th>\n",
       "      <td>[4, 10, 15, 10, 8, 8, 3]</td>\n",
       "      <td>0.0704</td>\n",
       "      <td>0.975</td>\n",
       "      <td>0.038651</td>\n",
       "    </tr>\n",
       "    <tr>\n",
       "      <th>8</th>\n",
       "      <td>[4, 13, 13, 14, 3]</td>\n",
       "      <td>0.0975</td>\n",
       "      <td>0.975</td>\n",
       "      <td>0.022086</td>\n",
       "    </tr>\n",
       "    <tr>\n",
       "      <th>9</th>\n",
       "      <td>[4, 12, 9, 12, 3]</td>\n",
       "      <td>0.1314</td>\n",
       "      <td>0.975</td>\n",
       "      <td>0.018482</td>\n",
       "    </tr>\n",
       "    <tr>\n",
       "      <th>10</th>\n",
       "      <td>[4, 16, 9, 9, 15, 3]</td>\n",
       "      <td>0.2467</td>\n",
       "      <td>0.975</td>\n",
       "      <td>0.048033</td>\n",
       "    </tr>\n",
       "    <tr>\n",
       "      <th>11</th>\n",
       "      <td>[4, 11, 14, 15, 10, 3]</td>\n",
       "      <td>0.2083</td>\n",
       "      <td>0.975</td>\n",
       "      <td>0.035065</td>\n",
       "    </tr>\n",
       "    <tr>\n",
       "      <th>12</th>\n",
       "      <td>[4, 11, 13, 12, 3]</td>\n",
       "      <td>0.2490</td>\n",
       "      <td>0.975</td>\n",
       "      <td>0.050652</td>\n",
       "    </tr>\n",
       "    <tr>\n",
       "      <th>13</th>\n",
       "      <td>[4, 14, 12, 12, 3]</td>\n",
       "      <td>0.3666</td>\n",
       "      <td>0.975</td>\n",
       "      <td>0.055091</td>\n",
       "    </tr>\n",
       "    <tr>\n",
       "      <th>14</th>\n",
       "      <td>[4, 12, 12, 16, 3]</td>\n",
       "      <td>0.1812</td>\n",
       "      <td>0.950</td>\n",
       "      <td>0.036852</td>\n",
       "    </tr>\n",
       "    <tr>\n",
       "      <th>15</th>\n",
       "      <td>[4, 12, 11, 15, 13, 13, 3]</td>\n",
       "      <td>0.4864</td>\n",
       "      <td>0.975</td>\n",
       "      <td>0.025989</td>\n",
       "    </tr>\n",
       "    <tr>\n",
       "      <th>16</th>\n",
       "      <td>[4, 9, 13, 11, 3]</td>\n",
       "      <td>0.1382</td>\n",
       "      <td>0.950</td>\n",
       "      <td>0.034539</td>\n",
       "    </tr>\n",
       "    <tr>\n",
       "      <th>17</th>\n",
       "      <td>[4, 13, 8, 9, 3]</td>\n",
       "      <td>0.2467</td>\n",
       "      <td>0.975</td>\n",
       "      <td>0.018135</td>\n",
       "    </tr>\n",
       "    <tr>\n",
       "      <th>18</th>\n",
       "      <td>[4, 12, 10, 8, 11, 10, 3]</td>\n",
       "      <td>0.4435</td>\n",
       "      <td>0.975</td>\n",
       "      <td>0.040274</td>\n",
       "    </tr>\n",
       "    <tr>\n",
       "      <th>19</th>\n",
       "      <td>[4, 8, 15, 13, 8, 10, 3]</td>\n",
       "      <td>0.2490</td>\n",
       "      <td>0.975</td>\n",
       "      <td>0.022833</td>\n",
       "    </tr>\n",
       "  </tbody>\n",
       "</table>\n",
       "</div>"
      ],
      "text/plain": [
       "                  model layers  learning rate  accuracy  Log loss\n",
       "0            [4, 13, 8, 11, 3]         0.4389     0.950  0.075639\n",
       "1       [4, 11, 13, 10, 12, 3]         0.1563     0.975  0.026402\n",
       "2    [4, 16, 16, 9, 14, 15, 3]         0.3146     0.975  0.017473\n",
       "3    [4, 16, 9, 13, 16, 12, 3]         0.4842     0.975  0.025969\n",
       "4            [4, 11, 13, 8, 3]         0.2015     0.950  0.032692\n",
       "5    [4, 11, 16, 9, 11, 11, 3]         0.4910     0.975  0.075492\n",
       "6      [4, 15, 8, 9, 8, 12, 3]         0.2829     0.925  0.017143\n",
       "7     [4, 10, 15, 10, 8, 8, 3]         0.0704     0.975  0.038651\n",
       "8           [4, 13, 13, 14, 3]         0.0975     0.975  0.022086\n",
       "9            [4, 12, 9, 12, 3]         0.1314     0.975  0.018482\n",
       "10        [4, 16, 9, 9, 15, 3]         0.2467     0.975  0.048033\n",
       "11      [4, 11, 14, 15, 10, 3]         0.2083     0.975  0.035065\n",
       "12          [4, 11, 13, 12, 3]         0.2490     0.975  0.050652\n",
       "13          [4, 14, 12, 12, 3]         0.3666     0.975  0.055091\n",
       "14          [4, 12, 12, 16, 3]         0.1812     0.950  0.036852\n",
       "15  [4, 12, 11, 15, 13, 13, 3]         0.4864     0.975  0.025989\n",
       "16           [4, 9, 13, 11, 3]         0.1382     0.950  0.034539\n",
       "17            [4, 13, 8, 9, 3]         0.2467     0.975  0.018135\n",
       "18   [4, 12, 10, 8, 11, 10, 3]         0.4435     0.975  0.040274\n",
       "19    [4, 8, 15, 13, 8, 10, 3]         0.2490     0.975  0.022833"
      ]
     },
     "execution_count": 26,
     "metadata": {},
     "output_type": "execute_result"
    }
   ],
   "source": [
    "results"
   ]
  },
  {
   "cell_type": "markdown",
   "metadata": {},
   "source": [
    "It seems like many models are tied with accuracy. In such a case model with lowest cost should be selected."
   ]
  },
  {
   "cell_type": "markdown",
   "metadata": {},
   "source": [
    "## 5. Conclusion"
   ]
  },
  {
   "cell_type": "markdown",
   "metadata": {},
   "source": [
    "I used caviar strategy search to tune just 2 parameters beaucse my neural network class is limited. However, this strategy can be used to tune other hyperparameters like activation function, dropout probability, regularization lamba parameter, and others. Engineers dont use grid search for hyperparameter tuning of deep learning models; the reason is it sometimes takes days and weeks to train a deep learning model, a grid search is just not feasible. Hence random search through hypermeter space is the most effective strategy, this is what caviar strategy does. The caviar strategy search has been encouraged by deep learning scientists like Prof Andrew Ng and Ian Goodfellow."
   ]
  }
 ],
 "metadata": {
  "kernelspec": {
   "display_name": "Python 3",
   "language": "python",
   "name": "python3"
  },
  "language_info": {
   "codemirror_mode": {
    "name": "ipython",
    "version": 3
   },
   "file_extension": ".py",
   "mimetype": "text/x-python",
   "name": "python",
   "nbconvert_exporter": "python",
   "pygments_lexer": "ipython3",
   "version": "3.6.5"
  }
 },
 "nbformat": 4,
 "nbformat_minor": 2
}
