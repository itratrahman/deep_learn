{
 "cells": [
  {
   "cell_type": "markdown",
   "metadata": {},
   "source": [
    "# MULTICLASS CLASSIFICATION"
   ]
  },
  {
   "cell_type": "markdown",
   "metadata": {},
   "source": [
    "This notebook test deep_learn package for multiclass classification using digits dataset from sklearn."
   ]
  },
  {
   "cell_type": "markdown",
   "metadata": {},
   "source": [
    "**Import deep_learn package**"
   ]
  },
  {
   "cell_type": "code",
   "execution_count": 1,
   "metadata": {},
   "outputs": [],
   "source": [
    "try:\n",
    "    from deep_learn.nn import ann\n",
    "except:\n",
    "    from config import *\n",
    "    append_path('../')\n",
    "    from deep_learn.nn import ann"
   ]
  },
  {
   "cell_type": "markdown",
   "metadata": {},
   "source": [
    "**Import neccessary package**"
   ]
  },
  {
   "cell_type": "code",
   "execution_count": 2,
   "metadata": {},
   "outputs": [],
   "source": [
    "import numpy as np\n",
    "import pandas as pd\n",
    "from sklearn.model_selection import train_test_split\n",
    "from sklearn.datasets import load_digits\n",
    "from sklearn.preprocessing import OneHotEncoder\n",
    "import matplotlib.pyplot as plt"
   ]
  },
  {
   "cell_type": "markdown",
   "metadata": {},
   "source": [
    "## 1. Load and reshape data"
   ]
  },
  {
   "cell_type": "markdown",
   "metadata": {},
   "source": [
    "**Load digits data**"
   ]
  },
  {
   "cell_type": "code",
   "execution_count": 3,
   "metadata": {},
   "outputs": [],
   "source": [
    "digits = load_digits()"
   ]
  },
  {
   "cell_type": "code",
   "execution_count": 4,
   "metadata": {},
   "outputs": [
    {
     "data": {
      "text/plain": [
       "(1797, 8, 8)"
      ]
     },
     "execution_count": 4,
     "metadata": {},
     "output_type": "execute_result"
    }
   ],
   "source": [
    "digits.images.shape"
   ]
  },
  {
   "cell_type": "markdown",
   "metadata": {},
   "source": [
    "**Flatten the 2D image data**"
   ]
  },
  {
   "cell_type": "code",
   "execution_count": 5,
   "metadata": {},
   "outputs": [
    {
     "data": {
      "text/plain": [
       "(1797, 64)"
      ]
     },
     "execution_count": 5,
     "metadata": {},
     "output_type": "execute_result"
    }
   ],
   "source": [
    "n_samples = len(digits.images)\n",
    "image = digits.images.reshape((n_samples, -1))\n",
    "image.shape"
   ]
  },
  {
   "cell_type": "markdown",
   "metadata": {},
   "source": [
    "**Features and output of the data**"
   ]
  },
  {
   "cell_type": "code",
   "execution_count": 6,
   "metadata": {},
   "outputs": [],
   "source": [
    "features = [\"pixel\"+str(i+1) for i in range(image.shape[1])]\n",
    "output = 'label'"
   ]
  },
  {
   "cell_type": "markdown",
   "metadata": {},
   "source": [
    "**Store the data in a pandas dataframe**"
   ]
  },
  {
   "cell_type": "code",
   "execution_count": 7,
   "metadata": {},
   "outputs": [
    {
     "data": {
      "text/html": [
       "<div>\n",
       "<style scoped>\n",
       "    .dataframe tbody tr th:only-of-type {\n",
       "        vertical-align: middle;\n",
       "    }\n",
       "\n",
       "    .dataframe tbody tr th {\n",
       "        vertical-align: top;\n",
       "    }\n",
       "\n",
       "    .dataframe thead th {\n",
       "        text-align: right;\n",
       "    }\n",
       "</style>\n",
       "<table border=\"1\" class=\"dataframe\">\n",
       "  <thead>\n",
       "    <tr style=\"text-align: right;\">\n",
       "      <th></th>\n",
       "      <th>pixel1</th>\n",
       "      <th>pixel2</th>\n",
       "      <th>pixel3</th>\n",
       "      <th>pixel4</th>\n",
       "      <th>pixel5</th>\n",
       "      <th>pixel6</th>\n",
       "      <th>pixel7</th>\n",
       "      <th>pixel8</th>\n",
       "      <th>pixel9</th>\n",
       "      <th>pixel10</th>\n",
       "      <th>...</th>\n",
       "      <th>pixel56</th>\n",
       "      <th>pixel57</th>\n",
       "      <th>pixel58</th>\n",
       "      <th>pixel59</th>\n",
       "      <th>pixel60</th>\n",
       "      <th>pixel61</th>\n",
       "      <th>pixel62</th>\n",
       "      <th>pixel63</th>\n",
       "      <th>pixel64</th>\n",
       "      <th>label</th>\n",
       "    </tr>\n",
       "  </thead>\n",
       "  <tbody>\n",
       "    <tr>\n",
       "      <th>0</th>\n",
       "      <td>0.0</td>\n",
       "      <td>0.0</td>\n",
       "      <td>5.0</td>\n",
       "      <td>13.0</td>\n",
       "      <td>9.0</td>\n",
       "      <td>1.0</td>\n",
       "      <td>0.0</td>\n",
       "      <td>0.0</td>\n",
       "      <td>0.0</td>\n",
       "      <td>0.0</td>\n",
       "      <td>...</td>\n",
       "      <td>0.0</td>\n",
       "      <td>0.0</td>\n",
       "      <td>0.0</td>\n",
       "      <td>6.0</td>\n",
       "      <td>13.0</td>\n",
       "      <td>10.0</td>\n",
       "      <td>0.0</td>\n",
       "      <td>0.0</td>\n",
       "      <td>0.0</td>\n",
       "      <td>0</td>\n",
       "    </tr>\n",
       "    <tr>\n",
       "      <th>1</th>\n",
       "      <td>0.0</td>\n",
       "      <td>0.0</td>\n",
       "      <td>0.0</td>\n",
       "      <td>12.0</td>\n",
       "      <td>13.0</td>\n",
       "      <td>5.0</td>\n",
       "      <td>0.0</td>\n",
       "      <td>0.0</td>\n",
       "      <td>0.0</td>\n",
       "      <td>0.0</td>\n",
       "      <td>...</td>\n",
       "      <td>0.0</td>\n",
       "      <td>0.0</td>\n",
       "      <td>0.0</td>\n",
       "      <td>0.0</td>\n",
       "      <td>11.0</td>\n",
       "      <td>16.0</td>\n",
       "      <td>10.0</td>\n",
       "      <td>0.0</td>\n",
       "      <td>0.0</td>\n",
       "      <td>1</td>\n",
       "    </tr>\n",
       "    <tr>\n",
       "      <th>2</th>\n",
       "      <td>0.0</td>\n",
       "      <td>0.0</td>\n",
       "      <td>0.0</td>\n",
       "      <td>4.0</td>\n",
       "      <td>15.0</td>\n",
       "      <td>12.0</td>\n",
       "      <td>0.0</td>\n",
       "      <td>0.0</td>\n",
       "      <td>0.0</td>\n",
       "      <td>0.0</td>\n",
       "      <td>...</td>\n",
       "      <td>0.0</td>\n",
       "      <td>0.0</td>\n",
       "      <td>0.0</td>\n",
       "      <td>0.0</td>\n",
       "      <td>3.0</td>\n",
       "      <td>11.0</td>\n",
       "      <td>16.0</td>\n",
       "      <td>9.0</td>\n",
       "      <td>0.0</td>\n",
       "      <td>2</td>\n",
       "    </tr>\n",
       "    <tr>\n",
       "      <th>3</th>\n",
       "      <td>0.0</td>\n",
       "      <td>0.0</td>\n",
       "      <td>7.0</td>\n",
       "      <td>15.0</td>\n",
       "      <td>13.0</td>\n",
       "      <td>1.0</td>\n",
       "      <td>0.0</td>\n",
       "      <td>0.0</td>\n",
       "      <td>0.0</td>\n",
       "      <td>8.0</td>\n",
       "      <td>...</td>\n",
       "      <td>0.0</td>\n",
       "      <td>0.0</td>\n",
       "      <td>0.0</td>\n",
       "      <td>7.0</td>\n",
       "      <td>13.0</td>\n",
       "      <td>13.0</td>\n",
       "      <td>9.0</td>\n",
       "      <td>0.0</td>\n",
       "      <td>0.0</td>\n",
       "      <td>3</td>\n",
       "    </tr>\n",
       "    <tr>\n",
       "      <th>4</th>\n",
       "      <td>0.0</td>\n",
       "      <td>0.0</td>\n",
       "      <td>0.0</td>\n",
       "      <td>1.0</td>\n",
       "      <td>11.0</td>\n",
       "      <td>0.0</td>\n",
       "      <td>0.0</td>\n",
       "      <td>0.0</td>\n",
       "      <td>0.0</td>\n",
       "      <td>0.0</td>\n",
       "      <td>...</td>\n",
       "      <td>0.0</td>\n",
       "      <td>0.0</td>\n",
       "      <td>0.0</td>\n",
       "      <td>0.0</td>\n",
       "      <td>2.0</td>\n",
       "      <td>16.0</td>\n",
       "      <td>4.0</td>\n",
       "      <td>0.0</td>\n",
       "      <td>0.0</td>\n",
       "      <td>4</td>\n",
       "    </tr>\n",
       "    <tr>\n",
       "      <th>5</th>\n",
       "      <td>0.0</td>\n",
       "      <td>0.0</td>\n",
       "      <td>12.0</td>\n",
       "      <td>10.0</td>\n",
       "      <td>0.0</td>\n",
       "      <td>0.0</td>\n",
       "      <td>0.0</td>\n",
       "      <td>0.0</td>\n",
       "      <td>0.0</td>\n",
       "      <td>0.0</td>\n",
       "      <td>...</td>\n",
       "      <td>0.0</td>\n",
       "      <td>0.0</td>\n",
       "      <td>0.0</td>\n",
       "      <td>9.0</td>\n",
       "      <td>16.0</td>\n",
       "      <td>16.0</td>\n",
       "      <td>10.0</td>\n",
       "      <td>0.0</td>\n",
       "      <td>0.0</td>\n",
       "      <td>5</td>\n",
       "    </tr>\n",
       "    <tr>\n",
       "      <th>6</th>\n",
       "      <td>0.0</td>\n",
       "      <td>0.0</td>\n",
       "      <td>0.0</td>\n",
       "      <td>12.0</td>\n",
       "      <td>13.0</td>\n",
       "      <td>0.0</td>\n",
       "      <td>0.0</td>\n",
       "      <td>0.0</td>\n",
       "      <td>0.0</td>\n",
       "      <td>0.0</td>\n",
       "      <td>...</td>\n",
       "      <td>0.0</td>\n",
       "      <td>0.0</td>\n",
       "      <td>0.0</td>\n",
       "      <td>1.0</td>\n",
       "      <td>9.0</td>\n",
       "      <td>15.0</td>\n",
       "      <td>11.0</td>\n",
       "      <td>3.0</td>\n",
       "      <td>0.0</td>\n",
       "      <td>6</td>\n",
       "    </tr>\n",
       "    <tr>\n",
       "      <th>7</th>\n",
       "      <td>0.0</td>\n",
       "      <td>0.0</td>\n",
       "      <td>7.0</td>\n",
       "      <td>8.0</td>\n",
       "      <td>13.0</td>\n",
       "      <td>16.0</td>\n",
       "      <td>15.0</td>\n",
       "      <td>1.0</td>\n",
       "      <td>0.0</td>\n",
       "      <td>0.0</td>\n",
       "      <td>...</td>\n",
       "      <td>0.0</td>\n",
       "      <td>0.0</td>\n",
       "      <td>0.0</td>\n",
       "      <td>13.0</td>\n",
       "      <td>5.0</td>\n",
       "      <td>0.0</td>\n",
       "      <td>0.0</td>\n",
       "      <td>0.0</td>\n",
       "      <td>0.0</td>\n",
       "      <td>7</td>\n",
       "    </tr>\n",
       "    <tr>\n",
       "      <th>8</th>\n",
       "      <td>0.0</td>\n",
       "      <td>0.0</td>\n",
       "      <td>9.0</td>\n",
       "      <td>14.0</td>\n",
       "      <td>8.0</td>\n",
       "      <td>1.0</td>\n",
       "      <td>0.0</td>\n",
       "      <td>0.0</td>\n",
       "      <td>0.0</td>\n",
       "      <td>0.0</td>\n",
       "      <td>...</td>\n",
       "      <td>0.0</td>\n",
       "      <td>0.0</td>\n",
       "      <td>0.0</td>\n",
       "      <td>11.0</td>\n",
       "      <td>16.0</td>\n",
       "      <td>15.0</td>\n",
       "      <td>11.0</td>\n",
       "      <td>1.0</td>\n",
       "      <td>0.0</td>\n",
       "      <td>8</td>\n",
       "    </tr>\n",
       "    <tr>\n",
       "      <th>9</th>\n",
       "      <td>0.0</td>\n",
       "      <td>0.0</td>\n",
       "      <td>11.0</td>\n",
       "      <td>12.0</td>\n",
       "      <td>0.0</td>\n",
       "      <td>0.0</td>\n",
       "      <td>0.0</td>\n",
       "      <td>0.0</td>\n",
       "      <td>0.0</td>\n",
       "      <td>2.0</td>\n",
       "      <td>...</td>\n",
       "      <td>0.0</td>\n",
       "      <td>0.0</td>\n",
       "      <td>0.0</td>\n",
       "      <td>9.0</td>\n",
       "      <td>12.0</td>\n",
       "      <td>13.0</td>\n",
       "      <td>3.0</td>\n",
       "      <td>0.0</td>\n",
       "      <td>0.0</td>\n",
       "      <td>9</td>\n",
       "    </tr>\n",
       "  </tbody>\n",
       "</table>\n",
       "<p>10 rows × 65 columns</p>\n",
       "</div>"
      ],
      "text/plain": [
       "   pixel1  pixel2  pixel3  pixel4  pixel5  pixel6  pixel7  pixel8  pixel9  \\\n",
       "0     0.0     0.0     5.0    13.0     9.0     1.0     0.0     0.0     0.0   \n",
       "1     0.0     0.0     0.0    12.0    13.0     5.0     0.0     0.0     0.0   \n",
       "2     0.0     0.0     0.0     4.0    15.0    12.0     0.0     0.0     0.0   \n",
       "3     0.0     0.0     7.0    15.0    13.0     1.0     0.0     0.0     0.0   \n",
       "4     0.0     0.0     0.0     1.0    11.0     0.0     0.0     0.0     0.0   \n",
       "5     0.0     0.0    12.0    10.0     0.0     0.0     0.0     0.0     0.0   \n",
       "6     0.0     0.0     0.0    12.0    13.0     0.0     0.0     0.0     0.0   \n",
       "7     0.0     0.0     7.0     8.0    13.0    16.0    15.0     1.0     0.0   \n",
       "8     0.0     0.0     9.0    14.0     8.0     1.0     0.0     0.0     0.0   \n",
       "9     0.0     0.0    11.0    12.0     0.0     0.0     0.0     0.0     0.0   \n",
       "\n",
       "   pixel10  ...    pixel56  pixel57  pixel58  pixel59  pixel60  pixel61  \\\n",
       "0      0.0  ...        0.0      0.0      0.0      6.0     13.0     10.0   \n",
       "1      0.0  ...        0.0      0.0      0.0      0.0     11.0     16.0   \n",
       "2      0.0  ...        0.0      0.0      0.0      0.0      3.0     11.0   \n",
       "3      8.0  ...        0.0      0.0      0.0      7.0     13.0     13.0   \n",
       "4      0.0  ...        0.0      0.0      0.0      0.0      2.0     16.0   \n",
       "5      0.0  ...        0.0      0.0      0.0      9.0     16.0     16.0   \n",
       "6      0.0  ...        0.0      0.0      0.0      1.0      9.0     15.0   \n",
       "7      0.0  ...        0.0      0.0      0.0     13.0      5.0      0.0   \n",
       "8      0.0  ...        0.0      0.0      0.0     11.0     16.0     15.0   \n",
       "9      2.0  ...        0.0      0.0      0.0      9.0     12.0     13.0   \n",
       "\n",
       "   pixel62  pixel63  pixel64  label  \n",
       "0      0.0      0.0      0.0      0  \n",
       "1     10.0      0.0      0.0      1  \n",
       "2     16.0      9.0      0.0      2  \n",
       "3      9.0      0.0      0.0      3  \n",
       "4      4.0      0.0      0.0      4  \n",
       "5     10.0      0.0      0.0      5  \n",
       "6     11.0      3.0      0.0      6  \n",
       "7      0.0      0.0      0.0      7  \n",
       "8     11.0      1.0      0.0      8  \n",
       "9      3.0      0.0      0.0      9  \n",
       "\n",
       "[10 rows x 65 columns]"
      ]
     },
     "execution_count": 7,
     "metadata": {},
     "output_type": "execute_result"
    }
   ],
   "source": [
    "data = pd.DataFrame(image, columns=features)\n",
    "data[output] = pd.Series(digits.target)\n",
    "data.head(10)"
   ]
  },
  {
   "cell_type": "code",
   "execution_count": 8,
   "metadata": {},
   "outputs": [],
   "source": [
    "# data = data.sample(frac=1, random_state = 0).reset_index(drop = True)"
   ]
  },
  {
   "cell_type": "markdown",
   "metadata": {},
   "source": [
    "## 2. Preprocess the data for deep learning model"
   ]
  },
  {
   "cell_type": "markdown",
   "metadata": {},
   "source": [
    "**Do a train test split**"
   ]
  },
  {
   "cell_type": "code",
   "execution_count": 9,
   "metadata": {},
   "outputs": [],
   "source": [
    "train_data, test_data = train_test_split(data, test_size = 0.25, random_state = 0)"
   ]
  },
  {
   "cell_type": "markdown",
   "metadata": {},
   "source": [
    "**A function to extract feature matrix and output vector**"
   ]
  },
  {
   "cell_type": "code",
   "execution_count": 10,
   "metadata": {},
   "outputs": [],
   "source": [
    "def get_xy_data(dataframe, features = None, output = None):\n",
    "\n",
    "    '''a function for parsing the feature matrix and output array from a pandas dataframe'''\n",
    "\n",
    "    # to ignore pandas warning\n",
    "    import warnings\n",
    "    warnings.filterwarnings('ignore')\n",
    "\n",
    "    # import numpy\n",
    "    import numpy as np\n",
    "\n",
    "    # if no featues are given then just return the a numpy matrix of the dataframe\n",
    "    if features == None:\n",
    "        return dataframe.as_matrix()\n",
    "\n",
    "    # extract the feature matrix and convert it to numpy array\n",
    "    X = dataframe[features].as_matrix()\n",
    "\n",
    "    # if there is no output\n",
    "    if output == None:\n",
    "        return X\n",
    "    # if the output vector is wanted by the user\n",
    "    else:\n",
    "        # extracting the output columns and converting it to numpy array\n",
    "        y = dataframe[output].as_matrix()\n",
    "        y = np.reshape(y, (-1,1))\n",
    "        # returning the feature matrix and output vector\n",
    "        return (X, y)"
   ]
  },
  {
   "cell_type": "markdown",
   "metadata": {},
   "source": [
    "**Extract X y data for train and test set**"
   ]
  },
  {
   "cell_type": "code",
   "execution_count": 11,
   "metadata": {},
   "outputs": [],
   "source": [
    "X_train, Y_train = get_xy_data(train_data, features=features, output=output)\n",
    "X_test, Y_test = get_xy_data(test_data, features=features, output=output)"
   ]
  },
  {
   "cell_type": "markdown",
   "metadata": {},
   "source": [
    "**Onehot encoding the y data**"
   ]
  },
  {
   "cell_type": "code",
   "execution_count": 12,
   "metadata": {},
   "outputs": [],
   "source": [
    "encoder = OneHotEncoder()\n",
    "Y_train = encoder.fit_transform(Y_train)\n",
    "Y_train = Y_train.toarray()\n",
    "Y_test = encoder.transform(Y_test)\n",
    "Y_test = Y_test.toarray()"
   ]
  },
  {
   "cell_type": "code",
   "execution_count": 13,
   "metadata": {},
   "outputs": [
    {
     "name": "stdout",
     "output_type": "stream",
     "text": [
      "(1347, 64)\n",
      "(1347, 10)\n"
     ]
    }
   ],
   "source": [
    "print(X_train.shape)\n",
    "print(Y_train.shape)"
   ]
  },
  {
   "cell_type": "code",
   "execution_count": 14,
   "metadata": {},
   "outputs": [
    {
     "name": "stdout",
     "output_type": "stream",
     "text": [
      "(450, 64)\n",
      "(450, 10)\n"
     ]
    }
   ],
   "source": [
    "print(X_test.shape)\n",
    "print(Y_test.shape)"
   ]
  },
  {
   "cell_type": "markdown",
   "metadata": {},
   "source": [
    "## 3. Train Neural Neural Network model"
   ]
  },
  {
   "cell_type": "markdown",
   "metadata": {},
   "source": [
    "**Neural network architecture**"
   ]
  },
  {
   "cell_type": "code",
   "execution_count": 15,
   "metadata": {},
   "outputs": [],
   "source": [
    "layers_dims = [64,128,128,128,64,10]"
   ]
  },
  {
   "cell_type": "markdown",
   "metadata": {},
   "source": [
    "**Create a nn model object**"
   ]
  },
  {
   "cell_type": "code",
   "execution_count": 16,
   "metadata": {},
   "outputs": [],
   "source": [
    "model = ann(layers_dims=layers_dims)"
   ]
  },
  {
   "cell_type": "markdown",
   "metadata": {},
   "source": [
    "**Hyperparameters of the model**"
   ]
  },
  {
   "cell_type": "code",
   "execution_count": 17,
   "metadata": {},
   "outputs": [],
   "source": [
    "batch_size = 600\n",
    "learning_rate = 0.1\n",
    "num_iterations = 10000"
   ]
  },
  {
   "cell_type": "markdown",
   "metadata": {},
   "source": [
    "**Fit the model**"
   ]
  },
  {
   "cell_type": "code",
   "execution_count": 18,
   "metadata": {},
   "outputs": [
    {
     "name": "stdout",
     "output_type": "stream",
     "text": [
      "Cost after iteration 0: 2.342183\n",
      "Cost after iteration 100: 2.302380\n",
      "Cost after iteration 200: 2.298306\n",
      "Cost after iteration 300: 2.294394\n",
      "Cost after iteration 400: 2.290679\n",
      "Cost after iteration 500: 2.278809\n",
      "Cost after iteration 600: 2.267473\n",
      "Cost after iteration 700: 2.239826\n",
      "Cost after iteration 800: 2.189348\n",
      "Cost after iteration 900: 2.006525\n",
      "Cost after iteration 1000: 1.768385\n",
      "Cost after iteration 1100: 1.599938\n",
      "Cost after iteration 1200: 1.442198\n",
      "Cost after iteration 1300: 1.245677\n",
      "Cost after iteration 1400: 1.091772\n",
      "Cost after iteration 1500: 0.930177\n",
      "Cost after iteration 1600: 0.839772\n",
      "Cost after iteration 1700: 0.733480\n",
      "Cost after iteration 1800: 0.643083\n",
      "Cost after iteration 1900: 0.494862\n",
      "Cost after iteration 2000: 0.409149\n",
      "Cost after iteration 2100: 0.322247\n",
      "Cost after iteration 2200: 0.251846\n",
      "Cost after iteration 2300: 0.197612\n",
      "Cost after iteration 2400: 0.160145\n",
      "Cost after iteration 2500: 0.132275\n",
      "Cost after iteration 2600: 0.114707\n",
      "Cost after iteration 2700: 0.094738\n",
      "Cost after iteration 2800: 0.086620\n",
      "Cost after iteration 2900: 0.069645\n",
      "Cost after iteration 3000: 0.062817\n",
      "Cost after iteration 3100: 0.057934\n",
      "Cost after iteration 3200: 0.049985\n",
      "Cost after iteration 3300: 0.047507\n",
      "Cost after iteration 3400: 0.042153\n",
      "Cost after iteration 3500: 0.037471\n",
      "Cost after iteration 3600: 0.035745\n",
      "Cost after iteration 3700: 0.033866\n",
      "Cost after iteration 3800: 0.030941\n",
      "Cost after iteration 3900: 0.029121\n",
      "Cost after iteration 4000: 0.027427\n",
      "Cost after iteration 4100: 0.025073\n",
      "Cost after iteration 4200: 0.025104\n",
      "Cost after iteration 4300: 0.024169\n",
      "Cost after iteration 4400: 0.021266\n",
      "Cost after iteration 4500: 0.021038\n",
      "Cost after iteration 4600: 0.019526\n",
      "Cost after iteration 4700: 0.019284\n",
      "Cost after iteration 4800: 0.018601\n",
      "Cost after iteration 4900: 0.017593\n",
      "Cost after iteration 5000: 0.016995\n",
      "Cost after iteration 5100: 0.016322\n",
      "Cost after iteration 5200: 0.015285\n",
      "Cost after iteration 5300: 0.015020\n",
      "Cost after iteration 5400: 0.014727\n",
      "Cost after iteration 5500: 0.013951\n",
      "Cost after iteration 5600: 0.013087\n",
      "Cost after iteration 5700: 0.012050\n",
      "Cost after iteration 5800: 0.011985\n",
      "Cost after iteration 5900: 0.012205\n",
      "Cost after iteration 6000: 0.011825\n",
      "Cost after iteration 6100: 0.011523\n",
      "Cost after iteration 6200: 0.010829\n",
      "Cost after iteration 6300: 0.010874\n",
      "Cost after iteration 6400: 0.010589\n",
      "Cost after iteration 6500: 0.010362\n",
      "Cost after iteration 6600: 0.009791\n",
      "Cost after iteration 6700: 0.009787\n",
      "Cost after iteration 6800: 0.009211\n",
      "Cost after iteration 6900: 0.009127\n",
      "Cost after iteration 7000: 0.008625\n",
      "Cost after iteration 7100: 0.008419\n",
      "Cost after iteration 7200: 0.008539\n",
      "Cost after iteration 7300: 0.008412\n",
      "Cost after iteration 7400: 0.008136\n",
      "Cost after iteration 7500: 0.007779\n",
      "Cost after iteration 7600: 0.007828\n",
      "Cost after iteration 7700: 0.007574\n",
      "Cost after iteration 7800: 0.007158\n",
      "Cost after iteration 7900: 0.007765\n",
      "Cost after iteration 8000: 0.007227\n",
      "Cost after iteration 8100: 0.007180\n",
      "Cost after iteration 8200: 0.006867\n",
      "Cost after iteration 8300: 0.006889\n",
      "Cost after iteration 8400: 0.006678\n",
      "Cost after iteration 8500: 0.006588\n",
      "Cost after iteration 8600: 0.006424\n",
      "Cost after iteration 8700: 0.006357\n",
      "Cost after iteration 8800: 0.006083\n",
      "Cost after iteration 8900: 0.006181\n",
      "Cost after iteration 9000: 0.005995\n",
      "Cost after iteration 9100: 0.006234\n",
      "Cost after iteration 9200: 0.005968\n",
      "Cost after iteration 9300: 0.005794\n",
      "Cost after iteration 9400: 0.005555\n",
      "Cost after iteration 9500: 0.006015\n",
      "Cost after iteration 9600: 0.005544\n",
      "Cost after iteration 9700: 0.005308\n",
      "Cost after iteration 9800: 0.005247\n",
      "Cost after iteration 9900: 0.005229\n",
      "Cost after iteration 10000: 0.005167\n",
      "Accuracy: 0.9711111111111111\n"
     ]
    }
   ],
   "source": [
    "model.fit(X_train, Y_train, X_test, Y_test, batch_size,\n",
    "          learning_rate = learning_rate, \n",
    "          num_iterations = num_iterations, print_cost=True, random_seed = 0)"
   ]
  },
  {
   "cell_type": "markdown",
   "metadata": {},
   "source": [
    "**Plot of Cost vs Iteration**"
   ]
  },
  {
   "cell_type": "code",
   "execution_count": 19,
   "metadata": {},
   "outputs": [
    {
     "data": {
      "image/png": "[encoded data removed]",
      "text/plain": [
       "<Figure size 432x288 with 1 Axes>"
      ]
     },
     "metadata": {},
     "output_type": "display_data"
    }
   ],
   "source": [
    "# plot the cost\n",
    "plt.plot(np.squeeze(model.costs))\n",
    "plt.ylabel('cost')\n",
    "plt.xlabel('iterations (per tens)')\n",
    "plt.title(\"Learning rate =\" + str(learning_rate))\n",
    "plt.show()"
   ]
  }
 ],
 "metadata": {
  "kernelspec": {
   "display_name": "Python 3",
   "language": "python",
   "name": "python3"
  },
  "language_info": {
   "codemirror_mode": {
    "name": "ipython",
    "version": 3
   },
   "file_extension": ".py",
   "mimetype": "text/x-python",
   "name": "python",
   "nbconvert_exporter": "python",
   "pygments_lexer": "ipython3",
   "version": "3.6.5"
  }
 },
 "nbformat": 4,
 "nbformat_minor": 2
}
